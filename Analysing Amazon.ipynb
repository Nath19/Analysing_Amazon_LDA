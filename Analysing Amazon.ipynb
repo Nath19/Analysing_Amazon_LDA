{
 "cells": [
  {
   "cell_type": "markdown",
   "metadata": {},
   "source": [
    "# Analysing Amazon Product Reviews Using LDA Topic Modelling"
   ]
  },
  {
   "cell_type": "markdown",
   "metadata": {},
   "source": [
    "With the boom in the number of online buyers and the simultaneous influx of reviews, understanding user experience is becoming an increasingly challenging task. Reviews talk volumes about a product, the seller and local partners. However, scraping such a myriad of customer feedback can be a tricky task. This tutorial helps you understand better ways of retrieving and structuring reviews of products to draw powerful insights.\n",
    "\n",
    "For our use case here, we will be using reviews of Amazon Echo."
   ]
  },
  {
   "cell_type": "markdown",
   "metadata": {},
   "source": [
    "## Load the libraries"
   ]
  },
  {
   "cell_type": "code",
   "execution_count": 5,
   "metadata": {},
   "outputs": [],
   "source": [
    "import re # We clean text using regex\n",
    "import csv # To read the csv\n",
    "from collections import defaultdict # For accumlating values\n",
    "from nltk.corpus import stopwords # To remove stopwords\n",
    "from gensim import corpora # To create corpus and dictionary for the LDA model\n",
    "from gensim.models import LdaModel # To use the LDA model\n",
    "import pandas as pd\n",
    "import nltk\n"
   ]
  },
  {
   "cell_type": "markdown",
   "metadata": {},
   "source": [
    "### Loading Amazon Echo Review Data\n"
   ]
  },
  {
   "cell_type": "markdown",
   "metadata": {},
   "source": [
    "Here is a sample dataset for Amazon Echo reviews : [here](https://www.scrapehero.com/wp/wp-content/uploads/blog_attachments/reviews.zip)\n"
   ]
  },
  {
   "cell_type": "code",
   "execution_count": 6,
   "metadata": {},
   "outputs": [],
   "source": [
    "fileContents = defaultdict(list)\n",
    "with open('reviews_sample.csv', 'r') as f:\n",
    "    reader = csv.DictReader(f)\n",
    "    for row in reader: # read a row as {column1: value1, column2: value2,...}\n",
    "        for (k,v) in row.items(): # go over each column name and value \n",
    "            fileContents[k].append(v) "
   ]
  },
  {
   "cell_type": "markdown",
   "metadata": {},
   "source": [
    "Extract just reviews to a list using\n",
    "\n"
   ]
  },
  {
   "cell_type": "code",
   "execution_count": 7,
   "metadata": {},
   "outputs": [],
   "source": [
    "reviews = fileContents['review_body']"
   ]
  },
  {
   "cell_type": "code",
   "execution_count": 8,
   "metadata": {},
   "outputs": [
    {
     "data": {
      "text/html": [
       "<div>\n",
       "<style scoped>\n",
       "    .dataframe tbody tr th:only-of-type {\n",
       "        vertical-align: middle;\n",
       "    }\n",
       "\n",
       "    .dataframe tbody tr th {\n",
       "        vertical-align: top;\n",
       "    }\n",
       "\n",
       "    .dataframe thead th {\n",
       "        text-align: right;\n",
       "    }\n",
       "</style>\n",
       "<table border=\"1\" class=\"dataframe\">\n",
       "  <thead>\n",
       "    <tr style=\"text-align: right;\">\n",
       "      <th></th>\n",
       "      <th>0</th>\n",
       "    </tr>\n",
       "  </thead>\n",
       "  <tbody>\n",
       "    <tr>\n",
       "      <td>0</td>\n",
       "      <td>It’s ok. Doesn’t know much. Can’t answer most ...</td>\n",
       "    </tr>\n",
       "    <tr>\n",
       "      <td>1</td>\n",
       "      <td>So easy to use.</td>\n",
       "    </tr>\n",
       "    <tr>\n",
       "      <td>2</td>\n",
       "      <td>Alexa is an entertaining assistant to have aro...</td>\n",
       "    </tr>\n",
       "    <tr>\n",
       "      <td>3</td>\n",
       "      <td>Fun and addictive.</td>\n",
       "    </tr>\n",
       "    <tr>\n",
       "      <td>4</td>\n",
       "      <td>I think google home assist is much smarter and...</td>\n",
       "    </tr>\n",
       "  </tbody>\n",
       "</table>\n",
       "</div>"
      ],
      "text/plain": [
       "                                                   0\n",
       "0  It’s ok. Doesn’t know much. Can’t answer most ...\n",
       "1                                    So easy to use.\n",
       "2  Alexa is an entertaining assistant to have aro...\n",
       "3                                 Fun and addictive.\n",
       "4  I think google home assist is much smarter and..."
      ]
     },
     "execution_count": 8,
     "metadata": {},
     "output_type": "execute_result"
    }
   ],
   "source": [
    "data = pd.DataFrame(reviews)\n",
    "data.head()"
   ]
  },
  {
   "cell_type": "code",
   "execution_count": 9,
   "metadata": {
    "scrolled": true
   },
   "outputs": [
    {
     "data": {
      "text/plain": [
       "['It’s ok. Doesn’t know much. Can’t answer most of my questions. Should have gotten a google mini instead',\n",
       " 'So easy to use.',\n",
       " 'Alexa is an entertaining assistant to have around.',\n",
       " 'Fun and addictive.',\n",
       " 'I think google home assist is much smarter and works better. Although this is also great - kids love that they can do their own programs',\n",
       " 'This was my 7th Echo dot. I have them everywhere. I bought this one for my sister. She loves it as much as I do.',\n",
       " 'Great product! I can’t wait to see what the next few generations will be like. This is a good entry to voice commands but far from AI that is really useful.',\n",
       " \"I personally only use it for playing Spotify, didn't really use it for anything else.\",\n",
       " 'Perfect for an alarm clock and fun for music and general knowledge.',\n",
       " 'If you live alone, this is the perfect thing for you. I just lost my dog, and was feeling so lonely. Then my Dot arrived in the mail! I am no longer alone. Alexa talks to me, and I can actually have a conversation with her, if I remember to say Alexa first. I can play trivia with her. She has made my loneliness a thing of the past. Thank God for Alexa!!',\n",
       " 'I like the simplicity of the Dot and its excellent voice recognition capability',\n",
       " \"My biggest complaint on these Alexa units is the search engine. It is not good compared to Google. With Google, it gets good results 9 out of 10 times. Alexa, you ask her questions, and she says she is not sure, all the time. Amazon should get a partnership with Google, or someone, to use their search engine. That is the biggest complaint. The 2nd problem is that only a few devices will link with it. For my thermostat, the company has an app, and it would seem that Amazon would make it easy to link the app to a skill in Alexa, but they don't and there are only 2 companies that make thermostats that will link to Alexa. Honeywell and one other. I looked at buying Honeywell, but they are really expensive. The 2nd one is even more expensive than Honeywell. And there is no way to ask Amazon to add apps or skills to Alexa. You would think they would want customer feedback. Microsoft has improved their feedback greatly. I was very surprised to see how well they do feedback now. Amazon is huge, and they should be able to add links to apps and make it a new skill, or write new apps to link to thermostats that have apps. I don't know why they can't do that.\",\n",
       " 'I was a bit skeptical at first about a voice assistant. Would I really use it? What would I do with it? Does it make life more convenient? Well I am using it and more and more. It’s much more convenient to set a timer when I am cooking dinner; to remind me to take medication; what’s the weather forecast? I only just received the product so I’m only beginning to explore the possibilities. The speaker is plenty good for tasks. I plan on buying a separate speaker to listen to music.',\n",
       " 'Love my echo! Reception for my local NPR station is spotty in my house. Now I can listen w/o the background static.',\n",
       " 'Awesome..works like a charm and tons of stuff to do ...Alarm clock radio..facts….Weather...Awesome Great Kids birthday gift ...Highly recommend!!',\n",
       " 'Very fun and informational. The setup took a while but all in all works fine. I enjoy being able to play favorite songs by request. I bought one for my son and granddaughter. They are happy with it as well.',\n",
       " \"If you forget to set your alarm you don't have to get out of bed, just speak a little louder Alexa set the alarm to 6 AM. This is just one of many features that convinced me to purchase another one. As this is our 2nd one and when they are on sale I know we will be getting more.\",\n",
       " 'Works great sound good',\n",
       " 'I don\\'t know if we didn\\'t set it up properly, but our Echo Dot doesn\\'t work as well as the one my mother received as a gift. I was so impressed with hers, that when the opportunity came along for me to get one, I jumped at the chance. When we ask Alexa a question, it will answer. But when we have asked for additional information it will repeat the information just given. Great for giving me the time, the weather, and setting a timer. Anything factual is good. (\"Who is the Gov. of Virginia,?\"for example.) However, if I ask for a recipe and I don\\'t like the one given, it will just repeat the same recipe if I ask for something different. It has also started talking when we haven\\'t signaled it. (Nothing said sounded anything like Alexa.) I\\'m not too upset that my Echo not working as expected. I caught the deal where I could get it for $15.00. If I had paid $50.00, I\\'d be pretty upset.',\n",
       " 'Hace lo esperado, los micrófonos funcionan muy bien desde lejos',\n",
       " 'Love it can do just about anything',\n",
       " 'Just another Alexa device',\n",
       " 'good product thank you amazon.',\n",
       " 'great!',\n",
       " 'I have the original Alexa. These echo dots sound quality is nothing compared to my Alexa.',\n",
       " 'I use Alexa for a number of things, such as; music, phone call, shopping list, reminder Etc.',\n",
       " \"I wish that the top of this was white also since that's mainly what shows Also, the speaker quality isn't great, but decent for the price..\",\n",
       " 'I like this. Sometimes it misses requests though.',\n",
       " 'Works great. Helpful to use as an intercom and alarm clock for the kids. Works great in the kitchen for answers and cooking timer.',\n",
       " 'Difficulties connecting to Wi-Fi and The echo.is sensitive to AC & TV when they are on in the same room.',\n",
       " 'My first reaction upon receiving the Dot was, \"This thing is so tiny. It\\'s going to sound awful.\" But I was surprised how great it sounds for its size. While I don\\'t recommend it for music, it is great for voice. So Alexa\\'s responses, talk radio, and podcasts are perfectly enjoyable. And the microphones are sensitive enough to pick up up from the other side of a very large room.',\n",
       " 'Very useful! Alexa is like my personal assistant.',\n",
       " 'I had a little struggle getting it all set up, but it works well now. My family enjoys it.',\n",
       " 'Bought this as a gift for my boyfriend and he uses it for everything from light switches to music to a timer. So worth it!',\n",
       " 'Takes a bit of time and expertise to set it up but great to use when it is.',\n",
       " 'I love Alexa!! Super helpful!! I can ask questions, ask for weather updates, and much more!!',\n",
       " 'She’s very quiet',\n",
       " 'Perfect!',\n",
       " 'I like all of the echos we have 5 of them and enjoy all she does and are learning more and more she can do love this product',\n",
       " 'This device is nice, but it has a lot to learn to be very useful.',\n",
       " 'Love this product!',\n",
       " 'Good addition to our assistant list',\n",
       " 'Easy set up. Love that I can hook it up to my stereo via cable and also can access my phone via Bluetooth. Responsive and all in all, a sweet addition.',\n",
       " 'I love it and use it every day. I bought this instead of the actual Alexa and have no regrets- it functions perfectly. I keep it by my bed and use it for checking my calendar and the weather and setting alarms. For the price it can’t be beat!',\n",
       " 'Absolute garbage. It understands nothing at all. I threw it out. I wouldn’t give this away as it would not be fair to torture/frustrate another person.',\n",
       " 'Used for me. Just love it. Love the games, weather, it even finds my phone.',\n",
       " 'Wifw and kids love it',\n",
       " 'Love it',\n",
       " 'Sound quality is severely lacking. Also the dot does not respond to you near as well as the actual echo.',\n",
       " 'This product was a gift and still learning how to use it.',\n",
       " 'I bought a second Echo Dot. Now I have one in my night stand upstairs and one in the living room downstairs. I can enjoy different music all day long, play sleep music, set my alarm and other cool stuff. I loooooove them.',\n",
       " 'I actually ordered 1 because I saw it on a lightening deal. I loved it so much 3 days later I ordered a second one. And honestly I’m gonna get a third for Christmas. I use it for alarms,quick add things to lists and listening to music at night while I’m sleep. It’s a nice handy thing to have around the house on your night stand or kitchen nook. They also have cases for them for $10 and under I also ordered 4 of those.',\n",
       " \"What's not to like about Alexa she works so hard but it did take me a while to get it hooked up I thought you could just plug it in the wall but no no no you got it first download it on your computer I ended up having to get Amazon support because my new 2 month old laptop they said was already infected with viruses and I had to pay an extra $89 to get Amazon Alexa service for the next year once I did that it then worked. So it cost me a lot more than just the Amazon advertised price\",\n",
       " 'Purchased for my 14 yr old son, he loves it',\n",
       " 'This little gadget is great for the start of automation of your home... From order tracking of your Amazon shipping, dropping on your teenagers room to wake them up in the morning to combining it with Nest thermostat and changing the temperature of your home from your bed. This product is amazing. For those who are techno savy get coupe of ESP8266 and the sky is the limit. Highly recommend this.... Thank you Amazon for the great quality product. Kudos to the Engineering team behind the design!',\n",
       " 'I don’t like that it has no bass but I still love',\n",
       " 'Bought this for my 5 year old. She loves how Alexa tells her jokes and answers all of her questions.',\n",
       " 'Small and compact for a extension to your yard',\n",
       " 'works as advertised',\n",
       " \"Funny that cowboy boots are you I'm\",\n",
       " 'Best smart assistan for the price.',\n",
       " 'Echo Dot \"Alexa\" is a fun friend to have around! I love talking to Alexa when I awaken and before bedtime. Of course, anytime during the day is great as well. Having someone to respond to my music requests, weather questions, and let me know what it new at the movies ...well, definitely a nice perk in my day. I wanted my cousin to have a happy roommate and not be lonely in her little country cottage in Wyoming, so I gifted her with an Echo Dot Alexa to keep her company and fill her life with music and conversation. Yes....totally enhanced her life! Echo Dot makes a great gift for college students (gave them to my granddaughters - love it, but they wanted to change the name to \"Alex\". We all...need a Cabana Boy..right?)',\n",
       " 'I use it in my office for music',\n",
       " 'Love it play it all the time',\n",
       " 'Totally worth the price. We have enjoyed ours for a couple of months now.',\n",
       " 'Music. Wonderful music. Easy to use',\n",
       " 'Great product',\n",
       " 'Easy hook up and provides great information.',\n",
       " 'Awesome device! Sound is a little low though but in all awesome',\n",
       " 'It’s really grest',\n",
       " 'Great to have around. I thoroughly enjoy it.',\n",
       " \"Alexa doesn't really know much, speaker isn't great for music, books are read by her annoying voice, Google is much better.\",\n",
       " 'Love it!! It was a little difficult to learn',\n",
       " \"Can't really say anything bad about Alexa... she's always listening.\",\n",
       " \"It's awesome\",\n",
       " 'Horrible response to commands. Disconnects bluetooth at random, does not work well in multi room set up.',\n",
       " 'Absolutely love the dot. We have several to control our lights and sockets in our house as I convert it to a smart home.',\n",
       " \"She isn't quite as intuitive as Google, but I like some of her routines.\",\n",
       " 'It’s great fun still learning what it can do',\n",
       " 'Good quality and price',\n",
       " 'fun and easy to use. nothing difficult about it.',\n",
       " '',\n",
       " 'This is a easy way to get hold of your teenage son who is in his bedroom and won’t come out.Excellent product and would highly recommended all households having one.',\n",
       " 'Good sound',\n",
       " 'This is only worth buying if you can connect this to an amplifier or amplified speakers but is let down by only having an analogue connection. I connected this to my home theatre system but have been plagued with crackle from the left speaker. There is no crackle with a digital connection from the TV. So crackle could be from the analogue connection in the home theatre or the echo dot. I will investigate further and if it is the dot then it is going back. I will not buy another until Amazon bring the echo dot up to date and include a digital connection.',\n",
       " 'Just love it but could have a better speaker for sound',\n",
       " 'good gear programed in 1st time',\n",
       " 'I bought this item because the price was reasonable and I wanted to find out more about it and what it can do. I am still investigating the possibilities but have already set up two smart wall sockets that work by verbal command to the device. I therefore recommend it',\n",
       " '',\n",
       " 'had',\n",
       " \"I've connected my Laptop and mobile to Amazon Echo Dot via bluetooth. When I start my Laptop, it confuses itself and drops connection every 30seconds and reconnects again. I then have to switch off bluetooth on my Laptop so it connects to my mobile or I have to go to the Alexa app and then connect it manually.\",\n",
       " 'Neat and small but does an excellent job',\n",
       " 'Alexa is my new best friend, I love her :)',\n",
       " '',\n",
       " 'Ideal plenty of functions for a better sound it can be connected to Bluetooth speaker',\n",
       " 'Great little gadget, definitely recommend buying one',\n",
       " 'Excellent for music and so much more',\n",
       " \"She is not as knowledgeable as she could be. Doesn't know where Suffolk is?\",\n",
       " '',\n",
       " \"It's an amazing helper and organizer. Don't remember how life was before my Alexa ;D\"]"
      ]
     },
     "execution_count": 9,
     "metadata": {},
     "output_type": "execute_result"
    }
   ],
   "source": [
    "reviews"
   ]
  },
  {
   "cell_type": "markdown",
   "metadata": {},
   "source": [
    "## Cleaning Up The Data\n"
   ]
  },
  {
   "cell_type": "markdown",
   "metadata": {},
   "source": [
    "### Punctuation"
   ]
  },
  {
   "cell_type": "code",
   "execution_count": 10,
   "metadata": {},
   "outputs": [],
   "source": [
    " reviews = [re.sub(r'[^\\w\\s]','',str(item)) for item in reviews]\n"
   ]
  },
  {
   "cell_type": "markdown",
   "metadata": {},
   "source": [
    "### Stop-words\n",
    "The reviews we have contains a lot of words that aren’t really necessary for our study. These are called stopwords. We will remove them from our text while converting our reviews to tokens."
   ]
  },
  {
   "cell_type": "code",
   "execution_count": 11,
   "metadata": {},
   "outputs": [
    {
     "name": "stderr",
     "output_type": "stream",
     "text": [
      "[nltk_data] Downloading package stopwords to\n",
      "[nltk_data]     /Users/nathanamar/nltk_data...\n",
      "[nltk_data]   Unzipping corpora/stopwords.zip.\n"
     ]
    },
    {
     "data": {
      "text/plain": [
       "True"
      ]
     },
     "execution_count": 11,
     "metadata": {},
     "output_type": "execute_result"
    }
   ],
   "source": [
    "import nltk\n",
    "nltk.download('stopwords')"
   ]
  },
  {
   "cell_type": "code",
   "execution_count": 12,
   "metadata": {},
   "outputs": [],
   "source": [
    "stopwords = set(stopwords.words('english'))\n"
   ]
  },
  {
   "cell_type": "markdown",
   "metadata": {},
   "source": [
    "Let’s remove those stopwords while converting the reviews list to a list of reviews which are split into words that matter."
   ]
  },
  {
   "cell_type": "code",
   "execution_count": 13,
   "metadata": {},
   "outputs": [],
   "source": [
    "texts = [[word for word in document.lower().split() if word not in stopwords] for document in reviews]\n"
   ]
  },
  {
   "cell_type": "markdown",
   "metadata": {},
   "source": [
    "### Taking out the less frequent words\n"
   ]
  },
  {
   "cell_type": "markdown",
   "metadata": {},
   "source": [
    "One of the easiest markers of how important a certain word is in a text (stopwords are exceptions) is how many times it has occurred. If it has occurred just once, then it must be rather irrelevant in the context of topic modeling. Let’s remove those words out."
   ]
  },
  {
   "cell_type": "code",
   "execution_count": 14,
   "metadata": {},
   "outputs": [],
   "source": [
    "frequency = defaultdict(int)\n",
    "for text in texts:\n",
    "    for token in text:\n",
    "         frequency[token] += 1\n",
    "\n",
    "texts = [[token for token in text if frequency[token] > 1] for text in texts]"
   ]
  },
  {
   "cell_type": "markdown",
   "metadata": {},
   "source": [
    "## Begin processing\n"
   ]
  },
  {
   "cell_type": "markdown",
   "metadata": {},
   "source": [
    "### Turning our text to dictionary\n"
   ]
  },
  {
   "cell_type": "markdown",
   "metadata": {},
   "source": [
    "A dictionary in the context of machine learning is a mapping between words and their integer ids. We know that a machine can’t understand words and documents as they are. So we split and vectorize them. "
   ]
  },
  {
   "cell_type": "code",
   "execution_count": 15,
   "metadata": {},
   "outputs": [],
   "source": [
    "dictionary = corpora.Dictionary(texts)\n"
   ]
  },
  {
   "cell_type": "markdown",
   "metadata": {},
   "source": [
    "f you try printing the dictionary, you can see the number of unique tokens in the same."
   ]
  },
  {
   "cell_type": "code",
   "execution_count": 16,
   "metadata": {},
   "outputs": [
    {
     "name": "stdout",
     "output_type": "stream",
     "text": [
      "Dictionary(196 unique tokens: ['answer', 'cant', 'doesnt', 'google', 'instead']...)\n"
     ]
    }
   ],
   "source": [
    "print(dictionary)\n"
   ]
  },
  {
   "cell_type": "code",
   "execution_count": 17,
   "metadata": {},
   "outputs": [],
   "source": [
    "corpus = [dictionary.doc2bow(text) for text in texts]\n"
   ]
  },
  {
   "cell_type": "code",
   "execution_count": 18,
   "metadata": {},
   "outputs": [
    {
     "name": "stdout",
     "output_type": "stream",
     "text": [
      "[[(0, 1), (1, 1), (2, 1), (3, 1), (4, 1), (5, 1), (6, 1), (7, 1)]]\n"
     ]
    }
   ],
   "source": [
    "print(corpus[:1])"
   ]
  },
  {
   "cell_type": "markdown",
   "metadata": {},
   "source": [
    "doc2bow counts the number of occurrences of each distinct word, converts the word to its integer word id and returns the result as a sparse vector. So it would have lists of tuples which goes [(word id no, occurred this many times), … ]\n",
    "\n",
    "So if corpus reads [(0,1),(1,4)] it means Word with ID no ‘0’ occurred one time and word with id number ‘1’ occurred 4 times in the document. Now that we have our reviews in a language the machine could understand, let’s get to finding topics in them."
   ]
  },
  {
   "cell_type": "markdown",
   "metadata": {},
   "source": [
    "# What is an LDA Model?"
   ]
  },
  {
   "cell_type": "markdown",
   "metadata": {},
   "source": [
    "Topic modeling is a type of statistical modeling for discovering the abstract “topics” that occur in a collection of documents. LDA expands to Latent Dirichlet Allocation (LDA) is an example of a model which is used to classify text in a document to a particular topic. It builds a topic per document model and words per topic model, modeled as Dirichlet distributions."
   ]
  },
  {
   "cell_type": "markdown",
   "metadata": {},
   "source": [
    "Let’s go with nine topics for now. The number of topics you give is largely a guess/arbitrary. The model assumes the document contains that many topics. You may use Coherence model to find an optimum number of topics."
   ]
  },
  {
   "cell_type": "code",
   "execution_count": 19,
   "metadata": {},
   "outputs": [],
   "source": [
    "NUM_TOPICS = 9 # This is an assumption. \n",
    "ldamodel = LdaModel(corpus, num_topics = NUM_TOPICS, id2word=dictionary, passes=15)#This might take some time."
   ]
  },
  {
   "cell_type": "markdown",
   "metadata": {},
   "source": [
    "## Insights\n",
    "### Extracting Topics from your model\n",
    "\n",
    "Let’s see the topics. Note that you might not receive the exact result as shown here. The objective function for LDA is non-convex, making it a multimodal problem. In layman’s terms, LDA topic modeling won’t give you one single best solution, it’s an optimization problem. It gives locally optimal solutions; you cannot expect that any given run would outperform some other run from different starting points. "
   ]
  },
  {
   "cell_type": "code",
   "execution_count": 20,
   "metadata": {},
   "outputs": [
    {
     "name": "stdout",
     "output_type": "stream",
     "text": [
      "(0, '0.028*\"worth\" + 0.028*\"sound\" + 0.028*\"music\" + 0.028*\"bought\" + 0.028*\"better\" + 0.028*\"room\" + 0.028*\"could\" + 0.028*\"timer\" + 0.028*\"speaker\" + 0.028*\"gift\"')\n",
      "(1, '0.063*\"alexa\" + 0.032*\"thing\" + 0.032*\"ordered\" + 0.032*\"im\" + 0.022*\"one\" + 0.022*\"also\" + 0.022*\"like\" + 0.022*\"play\" + 0.022*\"night\" + 0.022*\"actually\"')\n",
      "(2, '0.053*\"works\" + 0.038*\"one\" + 0.038*\"set\" + 0.031*\"alarm\" + 0.030*\"get\" + 0.030*\"alexa\" + 0.024*\"amazon\" + 0.023*\"price\" + 0.023*\"kids\" + 0.023*\"device\"')\n",
      "(3, '0.046*\"great\" + 0.037*\"dot\" + 0.037*\"echo\" + 0.027*\"alexa\" + 0.023*\"well\" + 0.019*\"home\" + 0.019*\"connection\" + 0.016*\"product\" + 0.015*\"amazon\" + 0.015*\"little\"')\n",
      "(4, '0.036*\"like\" + 0.036*\"good\" + 0.036*\"small\" + 0.036*\"assistant\" + 0.036*\"still\" + 0.036*\"love\" + 0.036*\"list\" + 0.036*\"dont\" + 0.036*\"addition\" + 0.004*\"get\"')\n",
      "(5, '0.075*\"use\" + 0.046*\"easy\" + 0.045*\"fun\" + 0.031*\"product\" + 0.031*\"anything\" + 0.031*\"love\" + 0.031*\"time\" + 0.031*\"learning\" + 0.031*\"still\" + 0.016*\"son\"')\n",
      "(6, '0.036*\"would\" + 0.036*\"good\" + 0.030*\"alexa\" + 0.026*\"music\" + 0.025*\"great\" + 0.024*\"amazon\" + 0.021*\"ask\" + 0.021*\"link\" + 0.021*\"apps\" + 0.021*\"make\"')\n",
      "(7, '0.045*\"alexa\" + 0.045*\"use\" + 0.034*\"bluetooth\" + 0.034*\"love\" + 0.034*\"laptop\" + 0.034*\"via\" + 0.023*\"cant\" + 0.023*\"phone\" + 0.023*\"every\" + 0.023*\"mobile\"')\n",
      "(8, '0.115*\"love\" + 0.052*\"much\" + 0.034*\"great\" + 0.032*\"alexa\" + 0.029*\"echo\" + 0.027*\"quality\" + 0.027*\"excellent\" + 0.027*\"like\" + 0.027*\"isnt\" + 0.027*\"also\"')\n"
     ]
    }
   ],
   "source": [
    "topics = ldamodel.show_topics()\n",
    "for topic in topics:\n",
    "    print(topic)"
   ]
  },
  {
   "cell_type": "code",
   "execution_count": 21,
   "metadata": {},
   "outputs": [
    {
     "data": {
      "text/html": [
       "<div>\n",
       "<style scoped>\n",
       "    .dataframe tbody tr th:only-of-type {\n",
       "        vertical-align: middle;\n",
       "    }\n",
       "\n",
       "    .dataframe tbody tr th {\n",
       "        vertical-align: top;\n",
       "    }\n",
       "\n",
       "    .dataframe thead th {\n",
       "        text-align: right;\n",
       "    }\n",
       "</style>\n",
       "<table border=\"1\" class=\"dataframe\">\n",
       "  <thead>\n",
       "    <tr style=\"text-align: right;\">\n",
       "      <th></th>\n",
       "      <th>Topic # 01</th>\n",
       "      <th>Topic # 02</th>\n",
       "      <th>Topic # 03</th>\n",
       "      <th>Topic # 04</th>\n",
       "      <th>Topic # 05</th>\n",
       "      <th>Topic # 06</th>\n",
       "      <th>Topic # 07</th>\n",
       "      <th>Topic # 08</th>\n",
       "      <th>Topic # 09</th>\n",
       "    </tr>\n",
       "  </thead>\n",
       "  <tbody>\n",
       "    <tr>\n",
       "      <td>0</td>\n",
       "      <td>worth</td>\n",
       "      <td>alexa</td>\n",
       "      <td>works</td>\n",
       "      <td>great</td>\n",
       "      <td>like</td>\n",
       "      <td>use</td>\n",
       "      <td>would</td>\n",
       "      <td>alexa</td>\n",
       "      <td>love</td>\n",
       "    </tr>\n",
       "    <tr>\n",
       "      <td>1</td>\n",
       "      <td>sound</td>\n",
       "      <td>thing</td>\n",
       "      <td>one</td>\n",
       "      <td>dot</td>\n",
       "      <td>good</td>\n",
       "      <td>easy</td>\n",
       "      <td>good</td>\n",
       "      <td>use</td>\n",
       "      <td>much</td>\n",
       "    </tr>\n",
       "    <tr>\n",
       "      <td>2</td>\n",
       "      <td>music</td>\n",
       "      <td>ordered</td>\n",
       "      <td>set</td>\n",
       "      <td>echo</td>\n",
       "      <td>small</td>\n",
       "      <td>fun</td>\n",
       "      <td>alexa</td>\n",
       "      <td>bluetooth</td>\n",
       "      <td>great</td>\n",
       "    </tr>\n",
       "    <tr>\n",
       "      <td>3</td>\n",
       "      <td>bought</td>\n",
       "      <td>im</td>\n",
       "      <td>alarm</td>\n",
       "      <td>alexa</td>\n",
       "      <td>assistant</td>\n",
       "      <td>product</td>\n",
       "      <td>music</td>\n",
       "      <td>love</td>\n",
       "      <td>alexa</td>\n",
       "    </tr>\n",
       "    <tr>\n",
       "      <td>4</td>\n",
       "      <td>better</td>\n",
       "      <td>one</td>\n",
       "      <td>get</td>\n",
       "      <td>well</td>\n",
       "      <td>still</td>\n",
       "      <td>anything</td>\n",
       "      <td>great</td>\n",
       "      <td>laptop</td>\n",
       "      <td>echo</td>\n",
       "    </tr>\n",
       "    <tr>\n",
       "      <td>5</td>\n",
       "      <td>room</td>\n",
       "      <td>also</td>\n",
       "      <td>alexa</td>\n",
       "      <td>home</td>\n",
       "      <td>love</td>\n",
       "      <td>love</td>\n",
       "      <td>amazon</td>\n",
       "      <td>via</td>\n",
       "      <td>quality</td>\n",
       "    </tr>\n",
       "    <tr>\n",
       "      <td>6</td>\n",
       "      <td>could</td>\n",
       "      <td>like</td>\n",
       "      <td>amazon</td>\n",
       "      <td>connection</td>\n",
       "      <td>list</td>\n",
       "      <td>time</td>\n",
       "      <td>ask</td>\n",
       "      <td>cant</td>\n",
       "      <td>excellent</td>\n",
       "    </tr>\n",
       "    <tr>\n",
       "      <td>7</td>\n",
       "      <td>timer</td>\n",
       "      <td>play</td>\n",
       "      <td>price</td>\n",
       "      <td>product</td>\n",
       "      <td>dont</td>\n",
       "      <td>learning</td>\n",
       "      <td>link</td>\n",
       "      <td>phone</td>\n",
       "      <td>like</td>\n",
       "    </tr>\n",
       "    <tr>\n",
       "      <td>8</td>\n",
       "      <td>speaker</td>\n",
       "      <td>night</td>\n",
       "      <td>kids</td>\n",
       "      <td>amazon</td>\n",
       "      <td>addition</td>\n",
       "      <td>still</td>\n",
       "      <td>apps</td>\n",
       "      <td>mobile</td>\n",
       "      <td>isnt</td>\n",
       "    </tr>\n",
       "    <tr>\n",
       "      <td>9</td>\n",
       "      <td>gift</td>\n",
       "      <td>actually</td>\n",
       "      <td>device</td>\n",
       "      <td>little</td>\n",
       "      <td>get</td>\n",
       "      <td>son</td>\n",
       "      <td>make</td>\n",
       "      <td>every</td>\n",
       "      <td>also</td>\n",
       "    </tr>\n",
       "    <tr>\n",
       "      <td>10</td>\n",
       "      <td>sensitive</td>\n",
       "      <td>alone</td>\n",
       "      <td>great</td>\n",
       "      <td>awesome</td>\n",
       "      <td>amazon</td>\n",
       "      <td>nothing</td>\n",
       "      <td>use</td>\n",
       "      <td>set</td>\n",
       "      <td>google</td>\n",
       "    </tr>\n",
       "    <tr>\n",
       "      <td>11</td>\n",
       "      <td>amazing</td>\n",
       "      <td>say</td>\n",
       "      <td>music</td>\n",
       "      <td>ask</td>\n",
       "      <td>alexa</td>\n",
       "      <td>really</td>\n",
       "      <td>sound</td>\n",
       "      <td>instead</td>\n",
       "      <td>dot</td>\n",
       "    </tr>\n",
       "    <tr>\n",
       "      <td>12</td>\n",
       "      <td>life</td>\n",
       "      <td>listening</td>\n",
       "      <td>bought</td>\n",
       "      <td>get</td>\n",
       "      <td>laptop</td>\n",
       "      <td>difficult</td>\n",
       "      <td>dont</td>\n",
       "      <td>google</td>\n",
       "      <td>music</td>\n",
       "    </tr>\n",
       "    <tr>\n",
       "      <td>13</td>\n",
       "      <td>tv</td>\n",
       "      <td>really</td>\n",
       "      <td>wall</td>\n",
       "      <td>like</td>\n",
       "      <td>old</td>\n",
       "      <td>commands</td>\n",
       "      <td>voice</td>\n",
       "      <td>easy</td>\n",
       "      <td>little</td>\n",
       "    </tr>\n",
       "    <tr>\n",
       "      <td>14</td>\n",
       "      <td>remember</td>\n",
       "      <td>perfect</td>\n",
       "      <td>already</td>\n",
       "      <td>could</td>\n",
       "      <td>lot</td>\n",
       "      <td>room</td>\n",
       "      <td>easy</td>\n",
       "      <td>amazon</td>\n",
       "      <td>speaker</td>\n",
       "    </tr>\n",
       "    <tr>\n",
       "      <td>15</td>\n",
       "      <td>dont</td>\n",
       "      <td>around</td>\n",
       "      <td>lot</td>\n",
       "      <td>crackle</td>\n",
       "      <td>said</td>\n",
       "      <td>well</td>\n",
       "      <td>really</td>\n",
       "      <td>new</td>\n",
       "      <td>voice</td>\n",
       "    </tr>\n",
       "    <tr>\n",
       "      <td>16</td>\n",
       "      <td>love</td>\n",
       "      <td>assistant</td>\n",
       "      <td>another</td>\n",
       "      <td>one</td>\n",
       "      <td>2</td>\n",
       "      <td>highly</td>\n",
       "      <td>feedback</td>\n",
       "      <td>app</td>\n",
       "      <td>price</td>\n",
       "    </tr>\n",
       "    <tr>\n",
       "      <td>17</td>\n",
       "      <td>alexa</td>\n",
       "      <td>get</td>\n",
       "      <td>smart</td>\n",
       "      <td>gift</td>\n",
       "      <td>advertised</td>\n",
       "      <td>work</td>\n",
       "      <td>honeywell</td>\n",
       "      <td>time</td>\n",
       "      <td>product</td>\n",
       "    </tr>\n",
       "    <tr>\n",
       "      <td>18</td>\n",
       "      <td>great</td>\n",
       "      <td>anything</td>\n",
       "      <td>sockets</td>\n",
       "      <td>know</td>\n",
       "      <td>could</td>\n",
       "      <td>way</td>\n",
       "      <td>google</td>\n",
       "      <td>know</td>\n",
       "      <td>one</td>\n",
       "    </tr>\n",
       "    <tr>\n",
       "      <td>19</td>\n",
       "      <td>use</td>\n",
       "      <td>thank</td>\n",
       "      <td>advertised</td>\n",
       "      <td>music</td>\n",
       "      <td>next</td>\n",
       "      <td>didnt</td>\n",
       "      <td>speaker</td>\n",
       "      <td>questions</td>\n",
       "      <td>house</td>\n",
       "    </tr>\n",
       "  </tbody>\n",
       "</table>\n",
       "</div>"
      ],
      "text/plain": [
       "   Topic # 01 Topic # 02  Topic # 03  Topic # 04  Topic # 05 Topic # 06  \\\n",
       "0       worth      alexa       works       great        like        use   \n",
       "1       sound      thing         one         dot        good       easy   \n",
       "2       music    ordered         set        echo       small        fun   \n",
       "3      bought         im       alarm       alexa   assistant    product   \n",
       "4      better        one         get        well       still   anything   \n",
       "5        room       also       alexa        home        love       love   \n",
       "6       could       like      amazon  connection        list       time   \n",
       "7       timer       play       price     product        dont   learning   \n",
       "8     speaker      night        kids      amazon    addition      still   \n",
       "9        gift   actually      device      little         get        son   \n",
       "10  sensitive      alone       great     awesome      amazon    nothing   \n",
       "11    amazing        say       music         ask       alexa     really   \n",
       "12       life  listening      bought         get      laptop  difficult   \n",
       "13         tv     really        wall        like         old   commands   \n",
       "14   remember    perfect     already       could         lot       room   \n",
       "15       dont     around         lot     crackle        said       well   \n",
       "16       love  assistant     another         one           2     highly   \n",
       "17      alexa        get       smart        gift  advertised       work   \n",
       "18      great   anything     sockets        know       could        way   \n",
       "19        use      thank  advertised       music        next      didnt   \n",
       "\n",
       "   Topic # 07 Topic # 08 Topic # 09  \n",
       "0       would      alexa       love  \n",
       "1        good        use       much  \n",
       "2       alexa  bluetooth      great  \n",
       "3       music       love      alexa  \n",
       "4       great     laptop       echo  \n",
       "5      amazon        via    quality  \n",
       "6         ask       cant  excellent  \n",
       "7        link      phone       like  \n",
       "8        apps     mobile       isnt  \n",
       "9        make      every       also  \n",
       "10        use        set     google  \n",
       "11      sound    instead        dot  \n",
       "12       dont     google      music  \n",
       "13      voice       easy     little  \n",
       "14       easy     amazon    speaker  \n",
       "15     really        new      voice  \n",
       "16   feedback        app      price  \n",
       "17  honeywell       time    product  \n",
       "18     google       know        one  \n",
       "19    speaker  questions      house  "
      ]
     },
     "execution_count": 21,
     "metadata": {},
     "output_type": "execute_result"
    }
   ],
   "source": [
    "word_dict = {};\n",
    "for i in range(NUM_TOPICS):\n",
    "    words = ldamodel.show_topic(i, topn = 20)\n",
    "    word_dict['Topic # ' + '{:02d}'.format(i+1)] = [i[0] for i in words]\n",
    "pd.DataFrame(word_dict)"
   ]
  },
  {
   "cell_type": "markdown",
   "metadata": {},
   "source": [
    "## Visualization using PyLDAvis\n"
   ]
  },
  {
   "cell_type": "markdown",
   "metadata": {},
   "source": [
    "PyLDAvis is designed to help users interpret the topics in a topic model that has been fit to a corpus of text data, by showing them visually. Let’s see ours."
   ]
  },
  {
   "cell_type": "code",
   "execution_count": 22,
   "metadata": {},
   "outputs": [],
   "source": [
    "import pyLDAvis.gensim # To visualise LDA model effectively\n"
   ]
  },
  {
   "cell_type": "code",
   "execution_count": 23,
   "metadata": {},
   "outputs": [
    {
     "name": "stderr",
     "output_type": "stream",
     "text": [
      "/Users/nathanamar/opt/anaconda3/lib/python3.7/site-packages/pyLDAvis/_prepare.py:257: FutureWarning: Sorting because non-concatenation axis is not aligned. A future version\n",
      "of pandas will change to not sort by default.\n",
      "\n",
      "To accept the future behavior, pass 'sort=False'.\n",
      "\n",
      "To retain the current behavior and silence the warning, pass 'sort=True'.\n",
      "\n",
      "  return pd.concat([default_term_info] + list(topic_dfs))\n"
     ]
    },
    {
     "data": {
      "text/html": [
       "\n",
       "<link rel=\"stylesheet\" type=\"text/css\" href=\"https://cdn.rawgit.com/bmabey/pyLDAvis/files/ldavis.v1.0.0.css\">\n",
       "\n",
       "\n",
       "<div id=\"ldavis_el278671122441449768089497910\"></div>\n",
       "<script type=\"text/javascript\">\n",
       "\n",
       "var ldavis_el278671122441449768089497910_data = {\"mdsDat\": {\"x\": [0.0028651448394469785, 0.11256079686280392, 0.1516733534205589, 0.062403671118703506, -0.013051905320367567, -0.045580509076953366, -0.09941581105360432, -0.08430005569905799, -0.08715468509152995], \"y\": [0.013048901442332535, -0.0778456726376117, 0.020246569815547965, 0.10622846167266853, -0.02559358520312086, -0.12616590759072727, -0.061254684856757384, 0.014107444031442663, 0.13722847332622523], \"topics\": [1, 2, 3, 4, 5, 6, 7, 8, 9], \"cluster\": [1, 1, 1, 1, 1, 1, 1, 1, 1], \"Freq\": [2.912461042404175, 9.565129280090332, 14.013409614562988, 24.268117904663086, 1.9225481748580933, 5.66912317276001, 21.783525466918945, 8.96994686126709, 10.895735740661621]}, \"tinfo\": {\"Category\": [\"Default\", \"Default\", \"Default\", \"Default\", \"Default\", \"Default\", \"Default\", \"Default\", \"Default\", \"Default\", \"Default\", \"Default\", \"Default\", \"Default\", \"Default\", \"Default\", \"Default\", \"Default\", \"Default\", \"Default\", \"Default\", \"Default\", \"Default\", \"Default\", \"Default\", \"Default\", \"Default\", \"Default\", \"Default\", \"Default\", \"Topic1\", \"Topic1\", \"Topic1\", \"Topic1\", \"Topic1\", \"Topic1\", \"Topic1\", \"Topic1\", \"Topic1\", \"Topic1\", \"Topic1\", \"Topic1\", \"Topic1\", \"Topic1\", \"Topic1\", \"Topic1\", \"Topic1\", \"Topic1\", \"Topic1\", \"Topic1\", \"Topic1\", \"Topic1\", \"Topic1\", \"Topic1\", \"Topic1\", \"Topic1\", \"Topic1\", \"Topic1\", \"Topic1\", \"Topic1\", \"Topic1\", \"Topic1\", \"Topic1\", \"Topic1\", \"Topic1\", \"Topic1\", \"Topic1\", \"Topic1\", \"Topic1\", \"Topic1\", \"Topic1\", \"Topic2\", \"Topic2\", \"Topic2\", \"Topic2\", \"Topic2\", \"Topic2\", \"Topic2\", \"Topic2\", \"Topic2\", \"Topic2\", \"Topic2\", \"Topic2\", \"Topic2\", \"Topic2\", \"Topic2\", \"Topic2\", \"Topic2\", \"Topic2\", \"Topic2\", \"Topic2\", \"Topic2\", \"Topic2\", \"Topic2\", \"Topic2\", \"Topic2\", \"Topic2\", \"Topic2\", \"Topic2\", \"Topic2\", \"Topic2\", \"Topic2\", \"Topic2\", \"Topic2\", \"Topic2\", \"Topic2\", \"Topic2\", \"Topic2\", \"Topic2\", \"Topic2\", \"Topic2\", \"Topic2\", \"Topic2\", \"Topic2\", \"Topic3\", \"Topic3\", \"Topic3\", \"Topic3\", \"Topic3\", \"Topic3\", \"Topic3\", \"Topic3\", \"Topic3\", \"Topic3\", \"Topic3\", \"Topic3\", \"Topic3\", \"Topic3\", \"Topic3\", \"Topic3\", \"Topic3\", \"Topic3\", \"Topic3\", \"Topic3\", \"Topic3\", \"Topic3\", \"Topic3\", \"Topic3\", \"Topic3\", \"Topic3\", \"Topic3\", \"Topic3\", \"Topic3\", \"Topic3\", \"Topic3\", \"Topic3\", \"Topic3\", \"Topic3\", \"Topic3\", \"Topic3\", \"Topic3\", \"Topic3\", \"Topic3\", \"Topic3\", \"Topic3\", \"Topic3\", \"Topic4\", \"Topic4\", \"Topic4\", \"Topic4\", \"Topic4\", \"Topic4\", \"Topic4\", \"Topic4\", \"Topic4\", \"Topic4\", \"Topic4\", \"Topic4\", \"Topic4\", \"Topic4\", \"Topic4\", \"Topic4\", \"Topic4\", \"Topic4\", \"Topic4\", \"Topic4\", \"Topic4\", \"Topic4\", \"Topic4\", \"Topic4\", \"Topic4\", \"Topic4\", \"Topic4\", \"Topic4\", \"Topic4\", \"Topic4\", \"Topic4\", \"Topic4\", \"Topic4\", \"Topic4\", \"Topic4\", \"Topic4\", \"Topic4\", \"Topic4\", \"Topic4\", \"Topic4\", \"Topic4\", \"Topic4\", \"Topic4\", \"Topic4\", \"Topic4\", \"Topic5\", \"Topic5\", \"Topic5\", \"Topic5\", \"Topic5\", \"Topic5\", \"Topic5\", \"Topic5\", \"Topic5\", \"Topic5\", \"Topic5\", \"Topic5\", \"Topic5\", \"Topic5\", \"Topic5\", \"Topic5\", \"Topic5\", \"Topic5\", \"Topic5\", \"Topic5\", \"Topic5\", \"Topic5\", \"Topic5\", \"Topic5\", \"Topic5\", \"Topic5\", \"Topic5\", \"Topic5\", \"Topic5\", \"Topic5\", \"Topic5\", \"Topic5\", \"Topic5\", \"Topic5\", \"Topic5\", \"Topic5\", \"Topic5\", \"Topic5\", \"Topic5\", \"Topic5\", \"Topic5\", \"Topic5\", \"Topic5\", \"Topic5\", \"Topic5\", \"Topic5\", \"Topic5\", \"Topic5\", \"Topic5\", \"Topic5\", \"Topic5\", \"Topic5\", \"Topic5\", \"Topic6\", \"Topic6\", \"Topic6\", \"Topic6\", \"Topic6\", \"Topic6\", \"Topic6\", \"Topic6\", \"Topic6\", \"Topic6\", \"Topic6\", \"Topic6\", \"Topic6\", \"Topic6\", \"Topic6\", \"Topic6\", \"Topic6\", \"Topic6\", \"Topic6\", \"Topic6\", \"Topic6\", \"Topic6\", \"Topic6\", \"Topic6\", \"Topic6\", \"Topic6\", \"Topic6\", \"Topic6\", \"Topic6\", \"Topic6\", \"Topic6\", \"Topic7\", \"Topic7\", \"Topic7\", \"Topic7\", \"Topic7\", \"Topic7\", \"Topic7\", \"Topic7\", \"Topic7\", \"Topic7\", \"Topic7\", \"Topic7\", \"Topic7\", \"Topic7\", \"Topic7\", \"Topic7\", \"Topic7\", \"Topic7\", \"Topic7\", \"Topic7\", \"Topic7\", \"Topic7\", \"Topic7\", \"Topic7\", \"Topic7\", \"Topic7\", \"Topic7\", \"Topic7\", \"Topic7\", \"Topic7\", \"Topic7\", \"Topic7\", \"Topic7\", \"Topic7\", \"Topic7\", \"Topic7\", \"Topic7\", \"Topic7\", \"Topic7\", \"Topic7\", \"Topic7\", \"Topic7\", \"Topic8\", \"Topic8\", \"Topic8\", \"Topic8\", \"Topic8\", \"Topic8\", \"Topic8\", \"Topic8\", \"Topic8\", \"Topic8\", \"Topic8\", \"Topic8\", \"Topic8\", \"Topic8\", \"Topic8\", \"Topic8\", \"Topic8\", \"Topic8\", \"Topic8\", \"Topic8\", \"Topic8\", \"Topic8\", \"Topic8\", \"Topic8\", \"Topic8\", \"Topic8\", \"Topic8\", \"Topic8\", \"Topic8\", \"Topic8\", \"Topic8\", \"Topic8\", \"Topic8\", \"Topic8\", \"Topic8\", \"Topic8\", \"Topic8\", \"Topic8\", \"Topic8\", \"Topic8\", \"Topic8\", \"Topic8\", \"Topic9\", \"Topic9\", \"Topic9\", \"Topic9\", \"Topic9\", \"Topic9\", \"Topic9\", \"Topic9\", \"Topic9\", \"Topic9\", \"Topic9\", \"Topic9\", \"Topic9\", \"Topic9\", \"Topic9\", \"Topic9\", \"Topic9\", \"Topic9\", \"Topic9\", \"Topic9\", \"Topic9\", \"Topic9\", \"Topic9\", \"Topic9\", \"Topic9\", \"Topic9\", \"Topic9\", \"Topic9\", \"Topic9\", \"Topic9\", \"Topic9\", \"Topic9\", \"Topic9\", \"Topic9\", \"Topic9\", \"Topic9\", \"Topic9\", \"Topic9\", \"Topic9\", \"Topic9\", \"Topic9\"], \"Freq\": [15.0, 12.0, 9.0, 7.0, 9.0, 7.0, 6.0, 25.0, 7.0, 5.0, 3.0, 7.0, 3.0, 7.0, 4.0, 6.0, 4.0, 8.0, 8.0, 3.0, 4.0, 3.0, 4.0, 11.0, 4.0, 6.0, 3.0, 3.0, 4.0, 3.0, 0.6451223492622375, 0.645131528377533, 0.64513099193573, 0.645124077796936, 0.6452249884605408, 0.645160436630249, 0.6451383829116821, 0.6451261043548584, 0.6451491713523865, 0.645134449005127, 0.6451444029808044, 0.6451848745346069, 0.6451353430747986, 0.6451207399368286, 0.6452086567878723, 0.645188570022583, 0.6451085805892944, 0.06451266258955002, 0.06451250612735748, 0.06451249122619629, 0.06451251357793808, 0.06451252102851868, 0.06451261788606644, 0.0645124688744545, 0.06451248377561569, 0.06451248377561569, 0.0645124688744545, 0.0645124688744545, 0.0645124688744545, 0.06451248377561569, 0.6450589299201965, 0.06451287120580673, 0.06451280415058136, 0.0645127072930336, 0.06451260298490524, 0.06451261788606644, 0.06451260298490524, 0.06451261043548584, 0.06451258063316345, 0.06451258063316345, 0.06451256573200226, 2.438709020614624, 1.654833436012268, 1.654833436012268, 1.6548339128494263, 1.6548337936401367, 2.4387428760528564, 1.6548445224761963, 1.6534315347671509, 2.4373223781585693, 1.6513499021530151, 1.6548784971237183, 0.8709532022476196, 1.6514384746551514, 0.8710099458694458, 0.8709657788276672, 0.8709628582000732, 0.870960533618927, 0.8709605932235718, 0.8709605932235718, 0.8709577918052673, 0.8709548115730286, 0.8709589838981628, 0.87103271484375, 0.8709589838981628, 0.8709571361541748, 0.8709457516670227, 0.8709678053855896, 0.870974600315094, 0.8710050582885742, 0.8709650039672852, 1.6546924114227295, 4.787145137786865, 1.6549488306045532, 1.6549123525619507, 1.6551417112350464, 0.8710628747940063, 0.871059000492096, 0.8710393905639648, 0.8710253834724426, 0.8710191249847412, 0.8710172176361084, 0.8709953427314758, 0.8709779977798462, 5.843898773193359, 1.7404619455337524, 1.7404422760009766, 1.740411639213562, 1.7389309406280518, 1.738892912864685, 1.7353781461715698, 2.5649077892303467, 2.563509464263916, 3.3895082473754883, 1.7389386892318726, 4.190784931182861, 1.7390613555908203, 2.564927816390991, 0.9160416126251221, 0.9160428643226624, 0.9160428643226624, 0.9160428643226624, 0.9160400629043579, 3.3892898559570312, 0.9163572788238525, 0.9163535833358765, 0.9163222312927246, 0.9162458181381226, 0.916061282157898, 0.9159768223762512, 0.9159531593322754, 0.9158359169960022, 0.916056752204895, 0.9160566329956055, 4.213978290557861, 1.738790512084961, 2.679636001586914, 1.7405707836151123, 3.3876242637634277, 1.5064209699630737, 2.1238291263580322, 1.7407971620559692, 1.1413908004760742, 0.9163193106651306, 0.9163118600845337, 0.9162613749504089, 2.749392032623291, 2.7492356300354004, 1.8655734062194824, 1.8655673265457153, 1.865540623664856, 1.865538477897644, 1.8654974699020386, 1.8654861450195312, 1.865476131439209, 1.8648724555969238, 1.8648582696914673, 1.8645950555801392, 3.6330254077911377, 3.6331369876861572, 7.0272650718688965, 2.7485523223876953, 1.8656485080718994, 2.749246597290039, 1.865640640258789, 1.86563241481781, 1.8656476736068726, 1.861305594444275, 1.8655877113342285, 4.496816158294678, 7.041675090789795, 1.8614333868026733, 1.86555814743042, 1.505215048789978, 1.8647998571395874, 8.844391822814941, 2.911073923110962, 2.7147998809814453, 2.749309539794922, 2.9888675212860107, 5.187790870666504, 2.7493062019348145, 2.919199228286743, 2.749295711517334, 2.749124050140381, 2.565685749053955, 1.9302536249160767, 1.8656684160232544, 1.8656325340270996, 1.8655914068222046, 1.8655741214752197, 0.5504070520401001, 0.55035001039505, 0.5503409504890442, 0.5503540635108948, 0.5503658056259155, 0.550343930721283, 0.55047607421875, 0.5504690408706665, 0.5503528118133545, 0.05503358319401741, 0.0550336129963398, 0.0550336018204689, 0.055033668875694275, 0.05503359064459801, 0.05503359064459801, 0.05503358319401741, 0.055033568292856216, 0.05503358319401741, 0.05503357946872711, 0.055033572018146515, 0.055033568292856216, 0.055033572018146515, 0.05503357946872711, 0.05503357946872711, 0.05503357574343681, 0.055033572018146515, 0.055033568292856216, 0.055033598095178604, 0.05503357574343681, 0.055033568292856216, 0.055033572018146515, 0.055033568292856216, 0.055092230439186096, 0.055084213614463806, 0.05507455766201019, 0.05508922040462494, 0.05508922412991524, 0.055079858750104904, 0.0550626739859581, 0.05507258325815201, 0.05507361516356468, 0.055069439113140106, 0.05514296889305115, 0.05512814596295357, 0.05512483790516853, 0.055103275924921036, 0.05509244650602341, 0.05508020520210266, 0.055076755583286285, 0.055074334144592285, 0.05507229268550873, 0.05505466088652611, 0.05503388121724129, 1.4001253843307495, 1.4000937938690186, 2.017040491104126, 0.7379041314125061, 0.7378847599029541, 0.7378301620483398, 2.0649585723876953, 0.7378975749015808, 0.7378855347633362, 0.7378851771354675, 1.400780200958252, 1.4020005464553833, 3.393314838409424, 0.7378780841827393, 0.7379545569419861, 0.7378900647163391, 0.7378925681114197, 0.7378493547439575, 0.7379494905471802, 0.7378960251808167, 0.7378821969032288, 0.7378648519515991, 1.4021642208099365, 0.7378426790237427, 0.7379083037376404, 0.7378696799278259, 1.401724934577942, 0.7378937602043152, 0.7378554940223694, 0.7378628253936768, 0.7378495931625366, 3.614037036895752, 3.6139540672302246, 3.6138486862182617, 6.251156806945801, 2.7348787784576416, 2.734835147857666, 1.8559675216674805, 1.855959177017212, 1.855865716934204, 1.8558528423309326, 1.8558293581008911, 1.8558040857315063, 1.855795979499817, 1.8557846546173096, 1.855726718902588, 1.8557257652282715, 1.8552374839782715, 6.199328422546387, 1.85581374168396, 1.8558061122894287, 2.7349863052368164, 1.8558202981948853, 3.6141741275787354, 3.6127970218658447, 1.855771541595459, 1.855586290359497, 2.734941005706787, 0.9768431782722473, 2.734612464904785, 2.7349228858947754, 2.7348196506500244, 4.2019243240356445, 4.493831634521484, 2.735032081604004, 3.6135177612304688, 5.11886739730835, 4.330023288726807, 2.4774422645568848, 1.8562744855880737, 1.856164574623108, 1.8559675216674805, 1.8559521436691284, 2.436882495880127, 1.653595209121704, 1.653594732284546, 1.653595209121704, 2.436896324157715, 1.653631567955017, 2.4369943141937256, 0.8702910542488098, 0.8702758550643921, 0.8703030943870544, 0.8702958226203918, 0.8703406453132629, 0.8703253269195557, 0.8703134655952454, 0.8703019022941589, 0.8703079223632812, 0.8703019022941589, 0.8703241944313049, 0.870311975479126, 0.8703091740608215, 0.8703069686889648, 0.8703042268753052, 1.653719425201416, 0.8703153133392334, 0.8705118894577026, 0.8703288435935974, 3.221933126449585, 0.8703206181526184, 0.8703073859214783, 0.8704275488853455, 1.653594732284546, 2.43697190284729, 3.2243340015411377, 0.8721467852592468, 0.8719379305839539, 0.8706307411193848, 0.8705139756202698, 0.8704149723052979, 0.870395839214325, 0.87033611536026, 0.870334804058075, 0.8703181147575378, 2.355226993560791, 2.353825807571411, 9.90506649017334, 4.471966743469238, 1.5967146158218384, 2.355250120162964, 1.1172219514846802, 1.5914967060089111, 0.8410142064094543, 0.841117799282074, 2.3489975929260254, 0.841140627861023, 0.8411368727684021, 0.8411327004432678, 0.8411334753036499, 0.8411502838134766, 0.8411419987678528, 2.351628303527832, 1.5981788635253906, 0.8411037921905518, 0.8411038517951965, 1.5981757640838623, 0.8411506414413452, 1.6745190620422363, 1.5982272624969482, 2.353832721710205, 0.8411657214164734, 2.475579023361206, 0.8411667943000793, 0.8411552906036377, 1.1832678318023682, 2.2547762393951416, 2.9793803691864014, 1.59811270236969, 2.7569587230682373, 1.7551240921020508, 1.5981040000915527, 0.8705722093582153, 0.8423154950141907, 0.8411605954170227, 0.8411551117897034], \"Term\": [\"love\", \"use\", \"good\", \"dont\", \"like\", \"works\", \"easy\", \"alexa\", \"much\", \"fun\", \"assistant\", \"would\", \"still\", \"sound\", \"gift\", \"speaker\", \"could\", \"set\", \"product\", \"life\", \"bluetooth\", \"better\", \"room\", \"echo\", \"anything\", \"bought\", \"timer\", \"laptop\", \"time\", \"via\", \"remember\", \"sensitive\", \"amazing\", \"tv\", \"worth\", \"better\", \"timer\", \"life\", \"room\", \"gift\", \"could\", \"bought\", \"speaker\", \"dont\", \"sound\", \"music\", \"love\", \"small\", \"list\", \"addition\", \"difficult\", \"best\", \"shes\", \"way\", \"commands\", \"didnt\", \"instead\", \"every\", \"mobile\", \"things\", \"alexa\", \"great\", \"use\", \"good\", \"fun\", \"really\", \"dot\", \"product\", \"easy\", \"perfect\", \"works\", \"ordered\", \"listening\", \"say\", \"actually\", \"alone\", \"thing\", \"night\", \"perfect\", \"im\", \"assistant\", \"play\", \"remember\", \"around\", \"shes\", \"things\", \"kitchen\", \"sleep\", \"stand\", \"second\", \"10\", \"able\", \"lonely\", \"deal\", \"conversation\", \"happy\", \"requests\", \"though\", \"house\", \"son\", \"useful\", \"really\", \"alexa\", \"also\", \"like\", \"one\", \"get\", \"anything\", \"thank\", \"dot\", \"well\", \"enjoy\", \"music\", \"nice\", \"works\", \"wall\", \"already\", \"lot\", \"sockets\", \"advertised\", \"getting\", \"kids\", \"device\", \"alarm\", \"smart\", \"set\", \"another\", \"price\", \"learn\", \"sleep\", \"stand\", \"second\", \"kitchen\", \"get\", \"whats\", \"possibilities\", \"cooking\", \"take\", \"helpful\", \"next\", \"2\", \"think\", \"answers\", \"stuff\", \"one\", \"home\", \"amazon\", \"bought\", \"alexa\", \"little\", \"great\", \"music\", \"dot\", \"timer\", \"use\", \"first\", \"awesome\", \"crackle\", \"theatre\", \"given\", \"digital\", \"analogue\", \"repeat\", \"upset\", \"recipe\", \"let\", \"respond\", \"talking\", \"connection\", \"home\", \"echo\", \"gift\", \"highly\", \"could\", \"loves\", \"old\", \"clock\", \"wanted\", \"information\", \"well\", \"dot\", \"life\", \"doesnt\", \"thank\", \"around\", \"great\", \"little\", \"know\", \"ask\", \"product\", \"alexa\", \"get\", \"amazon\", \"like\", \"one\", \"music\", \"fun\", \"recommend\", \"quality\", \"sound\", \"alarm\", \"small\", \"list\", \"addition\", \"still\", \"assistant\", \"dont\", \"like\", \"good\", \"love\", \"remember\", \"difficult\", \"best\", \"shes\", \"sensitive\", \"tv\", \"amazing\", \"way\", \"commands\", \"didnt\", \"instead\", \"every\", \"mobile\", \"things\", \"listening\", \"say\", \"alone\", \"actually\", \"learn\", \"definitely\", \"kitchen\", \"sleep\", \"stand\", \"lot\", \"advertised\", \"already\", \"2\", \"said\", \"next\", \"wall\", \"whats\", \"year\", \"take\", \"get\", \"amazon\", \"alexa\", \"laptop\", \"old\", \"could\", \"price\", \"first\", \"new\", \"works\", \"great\", \"learning\", \"still\", \"fun\", \"difficult\", \"best\", \"shes\", \"easy\", \"commands\", \"way\", \"didnt\", \"time\", \"anything\", \"use\", \"smart\", \"son\", \"work\", \"highly\", \"play\", \"nothing\", \"room\", \"bluetooth\", \"gift\", \"product\", \"price\", \"really\", \"would\", \"love\", \"well\", \"set\", \"get\", \"one\", \"link\", \"apps\", \"make\", \"would\", \"feedback\", \"honeywell\", \"see\", \"surprised\", \"biggest\", \"expensive\", \"thermostats\", \"skill\", \"complaint\", \"plenty\", \"search\", \"engine\", \"convenient\", \"good\", \"app\", \"add\", \"voice\", \"2nd\", \"ask\", \"sound\", \"first\", \"buying\", \"easy\", \"sensitive\", \"speaker\", \"really\", \"google\", \"amazon\", \"music\", \"dont\", \"use\", \"alexa\", \"great\", \"product\", \"well\", \"questions\", \"new\", \"cant\", \"via\", \"mobile\", \"instead\", \"every\", \"laptop\", \"phone\", \"bluetooth\", \"addition\", \"list\", \"best\", \"things\", \"hook\", \"functions\", \"perfectly\", \"bit\", \"keep\", \"friend\", \"actual\", \"start\", \"connect\", \"setting\", \"answer\", \"cant\", \"bed\", \"app\", \"connected\", \"use\", \"doesnt\", \"day\", \"time\", \"set\", \"love\", \"alexa\", \"google\", \"easy\", \"amazon\", \"new\", \"know\", \"questions\", \"price\", \"bought\", \"weather\", \"excellent\", \"isnt\", \"love\", \"much\", \"house\", \"quality\", \"definitely\", \"better\", \"small\", \"difficult\", \"google\", \"learn\", \"compared\", \"listen\", \"even\", \"5\", \"gadget\", \"also\", \"voice\", \"learning\", \"phone\", \"price\", \"loves\", \"little\", \"speaker\", \"like\", \"nothing\", \"echo\", \"enjoy\", \"doesnt\", \"weather\", \"dot\", \"great\", \"product\", \"alexa\", \"music\", \"one\", \"know\", \"good\", \"buying\", \"really\"], \"Total\": [15.0, 12.0, 9.0, 7.0, 9.0, 7.0, 6.0, 25.0, 7.0, 5.0, 3.0, 7.0, 3.0, 7.0, 4.0, 6.0, 4.0, 8.0, 8.0, 3.0, 4.0, 3.0, 4.0, 11.0, 4.0, 6.0, 3.0, 3.0, 4.0, 3.0, 2.103537082672119, 2.1988439559936523, 2.203382730484009, 2.203378438949585, 3.02777099609375, 3.713486671447754, 3.9069674015045166, 3.965728759765625, 4.571078300476074, 4.634893894195557, 4.795269012451172, 6.176414489746094, 6.354996681213379, 7.044426441192627, 7.360513687133789, 13.070676803588867, 15.33740520477295, 1.9913444519042969, 2.0176315307617188, 2.0176377296447754, 2.1601877212524414, 2.1864378452301025, 2.187025308609009, 2.2823288440704346, 2.2823357582092285, 2.2868714332580566, 2.305633783340454, 2.3056342601776123, 2.3056342601776123, 2.306203603744507, 25.2366943359375, 19.428340911865234, 12.317913055419922, 9.692710876464844, 5.298838138580322, 6.365488052368164, 13.35146713256836, 8.870112419128418, 6.152412414550781, 3.1905736923217773, 7.2948899269104, 3.0906832218170166, 2.306807279586792, 2.306807279586792, 2.30680775642395, 2.30680775642395, 3.969851493835449, 3.131247043609619, 3.1905736923217773, 4.8537163734436035, 3.6812405586242676, 3.7953484058380127, 2.103537082672119, 4.074169635772705, 2.187025308609009, 2.306203603744507, 2.347370147705078, 2.3473706245422363, 2.3473708629608154, 2.3473708629608154, 2.4020934104919434, 2.4020869731903076, 2.406390428543091, 2.4066333770751953, 2.4064667224884033, 2.4064931869506836, 2.406543016433716, 2.4066321849823, 3.0372214317321777, 3.0706992149353027, 3.226536512374878, 6.365488052368164, 25.2366943359375, 7.128962993621826, 9.427973747253418, 13.016813278198242, 9.015137672424316, 4.6185808181762695, 3.2661385536193848, 13.35146713256836, 8.361276626586914, 3.9880802631378174, 13.070676803588867, 3.230928421020508, 7.2948899269104, 2.3879554271698, 2.3879475593566895, 2.387934684753418, 2.3880627155303955, 2.3880465030670166, 2.3875510692596436, 4.096114635467529, 4.0962371826171875, 5.804352760314941, 3.052159309387207, 8.856201171875, 4.150938510894775, 6.173852920532227, 2.320530891418457, 2.3473706245422363, 2.3473708629608154, 2.3473708629608154, 2.347370147705078, 9.015137672424316, 2.442633628845215, 2.4426631927490234, 2.4426655769348145, 2.442643642425537, 2.442653179168701, 2.4426512718200684, 2.4426333904266357, 2.44262433052063, 2.4472174644470215, 2.447218418121338, 13.016813278198242, 5.9229960441589355, 11.036066055297852, 6.176414489746094, 25.2366943359375, 6.557309627532959, 19.428340911865234, 13.070676803588867, 13.35146713256836, 3.9069674015045166, 12.317913055419922, 4.105710029602051, 3.3902697563171387, 3.390259027481079, 2.5065226554870605, 2.5065255165100098, 2.506518602371216, 2.5065181255340576, 2.5065174102783203, 2.5065159797668457, 2.5065150260925293, 2.506446599960327, 2.5064401626586914, 2.506415843963623, 5.057285785675049, 5.9229960441589355, 11.667692184448242, 4.634893894195557, 3.170628786087036, 4.795269012451172, 3.263552665710449, 3.3309290409088135, 3.330970525741577, 3.3303914070129395, 3.3856897354125977, 8.361276626586914, 13.35146713256836, 3.965728759765625, 4.046818733215332, 3.2661385536193848, 4.074169635772705, 19.428340911865234, 6.557309627532959, 6.629247665405273, 6.907031536102295, 8.870112419128418, 25.2366943359375, 9.015137672424316, 11.036066055297852, 9.427973747253418, 13.016813278198242, 13.070676803588867, 5.298838138580322, 4.9671711921691895, 4.777644157409668, 7.360513687133789, 5.804352760314941, 1.9913444519042969, 2.0176315307617188, 2.0176377296447754, 3.387622594833374, 3.6812405586242676, 7.044426441192627, 9.427973747253418, 9.692710876464844, 15.33740520477295, 2.103537082672119, 2.1601877212524414, 2.1864378452301025, 2.187025308609009, 2.1988439559936523, 2.203378438949585, 2.203382730484009, 2.2823288440704346, 2.2823357582092285, 2.2868714332580566, 2.305633783340454, 2.3056342601776123, 2.3056342601776123, 2.306203603744507, 2.306807279586792, 2.306807279586792, 2.30680775642395, 2.30680775642395, 2.320530891418457, 2.3335843086242676, 2.347370147705078, 2.3473706245422363, 2.3473708629608154, 2.387934684753418, 2.3880465030670166, 2.3879475593566895, 2.4426333904266357, 2.4471781253814697, 2.4426512718200684, 2.3879554271698, 2.442633628845215, 2.4471912384033203, 2.442643642425537, 9.015137672424316, 11.036066055297852, 25.2366943359375, 3.9133152961730957, 3.3309290409088135, 4.795269012451172, 6.173852920532227, 4.105710029602051, 4.988680362701416, 7.2948899269104, 19.428340911865234, 2.8249199390411377, 3.387622594833374, 5.298838138580322, 2.1601877212524414, 2.1864378452301025, 2.187025308609009, 6.152412414550781, 2.2823357582092285, 2.2823288440704346, 2.2868714332580566, 4.61357307434082, 4.6185808181762695, 12.317913055419922, 3.052159309387207, 3.0706992149353027, 3.1113064289093018, 3.170628786087036, 3.7953484058380127, 3.923035144805908, 4.571078300476074, 4.632176399230957, 4.634893894195557, 8.870112419128418, 6.173852920532227, 6.365488052368164, 7.557511329650879, 15.33740520477295, 8.361276626586914, 8.856201171875, 9.015137672424316, 13.016813278198242, 4.255826473236084, 4.255819320678711, 4.25581693649292, 7.557511329650879, 3.3766252994537354, 3.3766212463378906, 2.497445583343506, 2.4974453449249268, 2.4974365234375, 2.497436761856079, 2.4974329471588135, 2.4974310398101807, 2.4974312782287598, 2.497436761856079, 2.4974236488342285, 2.4974236488342285, 2.497404098510742, 9.692710876464844, 3.280705451965332, 3.281290292739868, 4.890716552734375, 3.3218703269958496, 6.907031536102295, 7.360513687133789, 4.105710029602051, 4.138153553009033, 6.152412414550781, 2.1988439559936523, 6.354996681213379, 6.365488052368164, 6.431478977203369, 11.036066055297852, 13.070676803588867, 7.044426441192627, 12.317913055419922, 25.2366943359375, 19.428340911865234, 8.870112419128418, 8.361276626586914, 5.048097133636475, 4.988680362701416, 4.847865581512451, 3.088921546936035, 2.3056342601776123, 2.305633783340454, 2.3056342601776123, 3.9133152961730957, 3.0626585483551025, 4.632176399230957, 2.0176377296447754, 2.0176315307617188, 2.1864378452301025, 2.306203603744507, 2.4015069007873535, 2.40151309967041, 2.4015166759490967, 2.4014933109283447, 2.4058666229248047, 2.4059042930603027, 2.406050443649292, 2.4060544967651367, 2.406049966812134, 2.406045436859131, 2.406047821044922, 4.847865581512451, 3.2304937839508057, 3.280705451965332, 3.2852163314819336, 12.317913055419922, 4.046818733215332, 4.113940715789795, 4.61357307434082, 8.856201171875, 15.33740520477295, 25.2366943359375, 6.431478977203369, 6.152412414550781, 11.036066055297852, 4.988680362701416, 6.629247665405273, 5.048097133636475, 6.173852920532227, 6.176414489746094, 5.749563217163086, 3.0101828575134277, 3.0102336406707764, 15.33740520477295, 7.752324104309082, 3.0372214317321777, 4.777644157409668, 2.3335843086242676, 3.713486671447754, 1.9913444519042969, 2.1601877212524414, 6.431478977203369, 2.320530891418457, 2.3752570152282715, 2.375250816345215, 2.375260591506958, 2.3798022270202637, 2.3798065185546875, 7.128962993621826, 4.890716552734375, 2.8249199390411377, 3.0626585483551025, 6.173852920532227, 3.263552665710449, 6.557309627532959, 6.354996681213379, 9.427973747253418, 3.923035144805908, 11.667692184448242, 3.9880802631378174, 4.046818733215332, 5.749563217163086, 13.35146713256836, 19.428340911865234, 8.870112419128418, 25.2366943359375, 13.070676803588867, 13.016813278198242, 6.629247665405273, 9.692710876464844, 4.138153553009033, 6.365488052368164], \"loglift\": [30.0, 29.0, 28.0, 27.0, 26.0, 25.0, 24.0, 23.0, 22.0, 21.0, 20.0, 19.0, 18.0, 17.0, 16.0, 15.0, 14.0, 13.0, 12.0, 11.0, 10.0, 9.0, 8.0, 7.0, 6.0, 5.0, 4.0, 3.0, 2.0, 1.0, 2.3541998863220215, 2.3099000453948975, 2.3078999519348145, 2.3078999519348145, 1.9902000427246094, 1.7858999967575073, 1.7351000308990479, 1.7201999425888062, 1.5780999660491943, 1.5642999410629272, 1.5303000211715698, 1.2771999835968018, 1.2486000061035156, 1.1455999612808228, 1.1018999814987183, 0.5275999903678894, 0.3675000071525574, 0.10649999976158142, 0.0934000015258789, 0.093299999833107, 0.025100000202655792, 0.013000000268220901, 0.01269999984651804, -0.029899999499320984, -0.029899999499320984, -0.03189999982714653, -0.04010000079870224, -0.04010000079870224, -0.04010000079870224, -0.040300000458955765, -0.13050000369548798, -2.1714999675750732, -1.7158000469207764, -1.476099967956543, -0.8722000122070312, -1.0556000471115112, -1.7963000535964966, -1.3874000310897827, -1.0216000080108643, -0.36489999294281006, -1.1919000148773193, 2.110100030899048, 2.014899969100952, 2.014899969100952, 2.014899969100952, 2.014899969100952, 1.8597999811172485, 1.7093000411987305, 1.6897000074386597, 1.6582000255584717, 1.5454000234603882, 1.5169999599456787, 1.4652999639511108, 1.444000005722046, 1.4263999462127686, 1.3732999563217163, 1.3555999994277954, 1.3555999994277954, 1.3555999994277954, 1.3555999994277954, 1.3324999809265137, 1.3324999809265137, 1.3308000564575195, 1.3307000398635864, 1.3307000398635864, 1.3307000398635864, 1.3307000398635864, 1.3307000398635864, 1.0980000495910645, 1.0870000123977661, 1.037500023841858, 0.9998000264167786, 0.6847000122070312, 0.8866999745368958, 0.6071000099182129, 0.2847000062465668, 0.010099999606609344, 0.6789000034332275, 1.0254000425338745, -0.38269999623298645, 0.08529999852180481, 0.8256000280380249, -0.3614000082015991, 1.0361000299453735, 1.743399977684021, 1.648900032043457, 1.648900032043457, 1.648800015449524, 1.6478999853134155, 1.6478999853134155, 1.6461000442504883, 1.496999979019165, 1.496500015258789, 1.4271999597549438, 1.4026000499725342, 1.2168999910354614, 1.0951999425888062, 1.0867999792099, 1.0356999635696411, 1.0241999626159668, 1.0241999626159668, 1.0241999626159668, 1.0241999626159668, 0.9868999719619751, 0.9847000241279602, 0.9847000241279602, 0.9847000241279602, 0.9846000075340271, 0.9843999743461609, 0.9843000173568726, 0.9843000173568726, 0.9842000007629395, 0.9825000166893005, 0.9825000166893005, 0.8373000025749207, 0.7394999861717224, 0.5497000217437744, 0.6985999941825867, -0.0430000014603138, 0.4943000078201294, -0.2484000027179718, -0.05090000107884407, -0.4941999912261963, 0.5149999856948853, -0.6333000063896179, 0.4652999937534332, 1.2065000534057617, 1.2064000368118286, 1.1207000017166138, 1.1207000017166138, 1.1207000017166138, 1.1207000017166138, 1.1205999851226807, 1.1205999851226807, 1.1205999851226807, 1.120300054550171, 1.120300054550171, 1.1202000379562378, 1.0851999521255493, 0.927299976348877, 0.9089999794960022, 0.8934999704360962, 0.885699987411499, 0.8597000241279602, 0.8568000197410583, 0.8363999724388123, 0.8363999724388123, 0.8342000246047974, 0.8199999928474426, 0.795799970626831, 0.776199996471405, 0.6596999764442444, 0.6416000127792358, 0.6413000226020813, 0.6345000267028809, 0.6291000247001648, 0.6039000153541565, 0.5231999754905701, 0.49480000138282776, 0.32820001244544983, -0.16599999368190765, 0.22849999368190765, 0.08609999716281891, 0.18369999527931213, -0.13899999856948853, -0.21209999918937683, 0.40619999170303345, 0.4368000030517578, 0.4756999909877777, 0.04349999874830246, 0.2809999883174896, 2.665600061416626, 2.652400016784668, 2.652400016784668, 2.134200096130371, 2.051100015640259, 1.4020999670028687, 1.1109000444412231, 1.0831999778747559, 0.6240000128746033, 0.30809998512268066, 0.2815000116825104, 0.2694000005722046, 0.26919999718666077, 0.2637999951839447, 0.26170000433921814, 0.26170000433921814, 0.226500004529953, 0.226500004529953, 0.22450000047683716, 0.21639999747276306, 0.21639999747276306, 0.21639999747276306, 0.21610000729560852, 0.21580000221729279, 0.21580000221729279, 0.21580000221729279, 0.21580000221729279, 0.20990000665187836, 0.20430000126361847, 0.19840000569820404, 0.19840000569820404, 0.19840000569820404, 0.18230000138282776, 0.18219999969005585, 0.18199999630451202, 0.15960000455379486, 0.15780000388622284, 0.15950000286102295, 0.1817999929189682, 0.15929999947547913, 0.1574999988079071, 0.15929999947547913, -1.1452000141143799, -1.3476999998092651, -2.1749000549316406, -0.31139999628067017, -0.15049999952316284, -0.5151000022888184, -0.767799973487854, -0.35989999771118164, -0.5547999739646912, -0.9351000189781189, -1.9149999618530273, 2.1682000160217285, 1.9865000247955322, 1.9042999744415283, 1.7960000038146973, 1.7839000225067139, 1.7835999727249146, 1.77839994430542, 1.7410000562667847, 1.7410000562667847, 1.7389999628067017, 1.6782000064849854, 1.677899956703186, 1.580899953842163, 1.4502999782562256, 1.4443999528884888, 1.4311000108718872, 1.4121999740600586, 1.232300043106079, 1.1993999481201172, 1.0463999509811401, 1.0331000089645386, 1.0325000286102295, 1.0255000591278076, 0.7458000183105469, 0.7153000235557556, 0.5436000227928162, 0.47749999165534973, 0.4426000118255615, 0.38499999046325684, 0.36719998717308044, -9.999999747378752e-05, 1.3605999946594238, 1.3604999780654907, 1.3604999780654907, 1.3342000246047974, 1.3131999969482422, 1.3131999969482422, 1.2272000312805176, 1.2271000146865845, 1.2271000146865845, 1.2271000146865845, 1.2271000146865845, 1.2271000146865845, 1.2271000146865845, 1.2271000146865845, 1.2269999980926514, 1.2269999980926514, 1.2267999649047852, 1.0771000385284424, 0.9542999863624573, 0.9541000127792358, 0.942799985408783, 0.9417999982833862, 0.8762999773025513, 0.8123999834060669, 0.7299000024795532, 0.722000002861023, 0.7132999897003174, 0.7127000093460083, 0.6808000206947327, 0.6791999936103821, 0.6689000129699707, 0.5583999752998352, 0.4564000070095062, 0.5778999924659729, 0.29760000109672546, -0.07129999995231628, 0.02290000021457672, 0.24860000610351562, 0.01899999938905239, 0.5235000252723694, 0.5353000164031982, 0.5638999938964844, 2.1742000579833984, 2.078900098800659, 2.078900098800659, 2.078900098800659, 1.937600016593933, 1.7949999570846558, 1.7690000534057617, 1.5703999996185303, 1.5703999996185303, 1.4901000261306763, 1.4368000030517578, 1.396299958229065, 1.396299958229065, 1.396299958229065, 1.396299958229065, 1.3945000171661377, 1.3944000005722046, 1.3944000005722046, 1.3944000005722046, 1.3944000005722046, 1.3944000005722046, 1.3944000005722046, 1.335800051689148, 1.0997999906539917, 1.0845999717712402, 1.0829999446868896, 1.070199966430664, 0.8744999766349792, 0.8579999804496765, 0.7434999942779541, 0.7330999970436096, 0.5717999935150146, 0.35370001196861267, 0.4133000075817108, 0.45739999413490295, -0.12839999794960022, 0.6654000282287598, 0.38100001215934753, 0.6535000205039978, 0.45210000872612, 0.45170000195503235, 0.5232999920845032, 1.9714000225067139, 1.9708000421524048, 1.7796000242233276, 1.666599988937378, 1.573799967765808, 1.5095000267028809, 1.4802000522613525, 1.3695000410079956, 1.3547999858856201, 1.2735999822616577, 1.2095999717712402, 1.2020000219345093, 1.1786999702453613, 1.1786999702453613, 1.1786999702453613, 1.176800012588501, 1.176800012588501, 1.107699990272522, 1.0982999801635742, 1.0053000450134277, 0.9244999885559082, 0.8652999997138977, 0.8610000014305115, 0.8517000079154968, 0.8364999890327454, 0.829200029373169, 0.6769999861717224, 0.6664000153541565, 0.6604999899864197, 0.6459000110626221, 0.6359999775886536, 0.4381999969482422, 0.3418000042438507, 0.5029000043869019, 0.0026000000070780516, 0.20900000631809235, 0.11940000206232071, 0.1867000013589859, -0.22619999945163727, 0.6236000061035156, 0.19290000200271606], \"logprob\": [30.0, 29.0, 28.0, 27.0, 26.0, 25.0, 24.0, 23.0, 22.0, 21.0, 20.0, 19.0, 18.0, 17.0, 16.0, 15.0, 14.0, 13.0, 12.0, 11.0, 10.0, 9.0, 8.0, 7.0, 6.0, 5.0, 4.0, 3.0, 2.0, 1.0, -3.578000068664551, -3.578000068664551, -3.578000068664551, -3.578000068664551, -3.5778000354766846, -3.577899932861328, -3.577899932861328, -3.578000068664551, -3.577899932861328, -3.577899932861328, -3.577899932861328, -3.577899932861328, -3.577899932861328, -3.578000068664551, -3.5778000354766846, -3.577899932861328, -3.578000068664551, -5.880499839782715, -5.880499839782715, -5.880499839782715, -5.880499839782715, -5.880499839782715, -5.880499839782715, -5.880499839782715, -5.880499839782715, -5.880499839782715, -5.880499839782715, -5.880499839782715, -5.880499839782715, -5.880499839782715, -3.5780999660491943, -5.880499839782715, -5.880499839782715, -5.880499839782715, -5.880499839782715, -5.880499839782715, -5.880499839782715, -5.880499839782715, -5.880499839782715, -5.880499839782715, -5.880499839782715, -3.437299966812134, -3.8250999450683594, -3.8250999450683594, -3.8250999450683594, -3.8250999450683594, -3.437299966812134, -3.8250999450683594, -3.825900077819824, -3.4379000663757324, -3.827199935913086, -3.825000047683716, -4.466899871826172, -3.8271000385284424, -4.466899871826172, -4.466899871826172, -4.466899871826172, -4.466899871826172, -4.466899871826172, -4.466899871826172, -4.466899871826172, -4.466899871826172, -4.466899871826172, -4.466899871826172, -4.466899871826172, -4.466899871826172, -4.4670000076293945, -4.466899871826172, -4.466899871826172, -4.466899871826172, -4.466899871826172, -3.825200080871582, -2.7627999782562256, -3.825000047683716, -3.825000047683716, -3.824899911880493, -4.466800212860107, -4.466800212860107, -4.466800212860107, -4.466899871826172, -4.466899871826172, -4.466899871826172, -4.466899871826172, -4.466899871826172, -2.9453001022338867, -4.156499862670898, -4.156499862670898, -4.156499862670898, -4.157400131225586, -4.157400131225586, -4.15939998626709, -3.768699884414673, -3.7692999839782715, -3.490000009536743, -4.157400131225586, -3.2778000831604004, -4.157299995422363, -3.768699884414673, -4.798399925231934, -4.798399925231934, -4.798399925231934, -4.798399925231934, -4.798399925231934, -3.490000009536743, -4.797999858856201, -4.797999858856201, -4.798099994659424, -4.798099994659424, -4.798299789428711, -4.798399925231934, -4.798500061035156, -4.798600196838379, -4.798299789428711, -4.798299789428711, -3.2723000049591064, -4.15749979019165, -3.7249999046325684, -4.156499862670898, -3.490499973297119, -4.300899982452393, -3.95740008354187, -4.156300067901611, -4.578400135040283, -4.798099994659424, -4.798099994659424, -4.798099994659424, -4.2484002113342285, -4.248499870300293, -4.636199951171875, -4.636300086975098, -4.636300086975098, -4.636300086975098, -4.636300086975098, -4.636300086975098, -4.636300086975098, -4.636600017547607, -4.636600017547607, -4.6367998123168945, -3.9697999954223633, -3.9697000980377197, -3.309999942779541, -4.248700141906738, -4.636199951171875, -4.248499870300293, -4.636199951171875, -4.636199951171875, -4.636199951171875, -4.638500213623047, -4.636199951171875, -3.7564001083374023, -3.308000087738037, -4.638500213623047, -4.636300086975098, -4.850900173187256, -4.63670015335083, -3.0799999237060547, -4.191299915313721, -4.261099815368652, -4.248499870300293, -4.164899826049805, -3.6135001182556152, -4.248499870300293, -4.188499927520752, -4.248499870300293, -4.248499870300293, -4.317599773406982, -4.602200031280518, -4.636199951171875, -4.636199951171875, -4.636199951171875, -4.636199951171875, -3.3213999271392822, -3.321500062942505, -3.321500062942505, -3.321500062942505, -3.321500062942505, -3.321500062942505, -3.3213000297546387, -3.3213000297546387, -3.321500062942505, -5.624100208282471, -5.624100208282471, -5.624100208282471, -5.624100208282471, -5.624100208282471, -5.624100208282471, -5.624100208282471, -5.624100208282471, -5.624100208282471, -5.624100208282471, -5.624100208282471, -5.624100208282471, -5.624100208282471, -5.624100208282471, -5.624100208282471, -5.624100208282471, -5.624100208282471, -5.624100208282471, -5.624100208282471, -5.624100208282471, -5.624100208282471, -5.624100208282471, -5.624100208282471, -5.6230998039245605, -5.623199939727783, -5.6234002113342285, -5.6230998039245605, -5.6230998039245605, -5.623300075531006, -5.623600006103516, -5.6234002113342285, -5.6234002113342285, -5.623499870300293, -5.622099876403809, -5.622399806976318, -5.622499942779541, -5.622900009155273, -5.623000144958496, -5.623300075531006, -5.623300075531006, -5.6234002113342285, -5.6234002113342285, -5.623700141906738, -5.624100208282471, -3.469099998474121, -3.469099998474121, -3.104099988937378, -4.109600067138672, -4.1097002029418945, -4.1097002029418945, -3.0806000232696533, -4.109600067138672, -4.1097002029418945, -4.1097002029418945, -3.4686999320983887, -3.4677999019622803, -2.583899974822998, -4.1097002029418945, -4.109600067138672, -4.109600067138672, -4.109600067138672, -4.1097002029418945, -4.109600067138672, -4.109600067138672, -4.1097002029418945, -4.1097002029418945, -3.4677000045776367, -4.1097002029418945, -4.109600067138672, -4.1097002029418945, -3.4679999351501465, -4.109600067138672, -4.1097002029418945, -4.1097002029418945, -4.1097002029418945, -3.867000102996826, -3.867000102996826, -3.867000102996826, -3.319000005722046, -4.145699977874756, -4.145699977874756, -4.533400058746338, -4.533400058746338, -4.5335001945495605, -4.5335001945495605, -4.5335001945495605, -4.5335001945495605, -4.5335001945495605, -4.5335001945495605, -4.5335001945495605, -4.5335001945495605, -4.53380012512207, -3.327399969100952, -4.5335001945495605, -4.5335001945495605, -4.145699977874756, -4.5335001945495605, -3.8668999671936035, -3.867300033569336, -4.5335001945495605, -4.533599853515625, -4.145699977874756, -5.17519998550415, -4.1458001136779785, -4.145699977874756, -4.145699977874756, -3.7163000106811523, -3.6491000652313232, -4.145699977874756, -3.8671000003814697, -3.518899917602539, -3.686199903488159, -4.24459981918335, -4.533199787139893, -4.533299922943115, -4.533400058746338, -4.533400058746338, -3.373800039291382, -3.7616000175476074, -3.7616000175476074, -3.7616000175476074, -3.373800039291382, -3.7616000175476074, -3.373800039291382, -4.403500080108643, -4.403500080108643, -4.40339994430542, -4.403500080108643, -4.40339994430542, -4.40339994430542, -4.40339994430542, -4.40339994430542, -4.40339994430542, -4.40339994430542, -4.40339994430542, -4.40339994430542, -4.40339994430542, -4.40339994430542, -4.40339994430542, -3.7614998817443848, -4.40339994430542, -4.403200149536133, -4.40339994430542, -3.094599962234497, -4.40339994430542, -4.40339994430542, -4.403299808502197, -3.7616000175476074, -3.373800039291382, -3.0938000679016113, -4.401299953460693, -4.401599884033203, -4.40310001373291, -4.403200149536133, -4.403299808502197, -4.403299808502197, -4.40339994430542, -4.40339994430542, -4.40339994430542, -3.602400064468384, -3.6029999256134033, -2.1659998893737793, -2.961199998855591, -3.9911000728607178, -3.602400064468384, -4.348199844360352, -3.99429988861084, -4.632199764251709, -4.631999969482422, -3.6050000190734863, -4.631999969482422, -4.631999969482422, -4.631999969482422, -4.631999969482422, -4.631999969482422, -4.631999969482422, -3.6038999557495117, -3.9902000427246094, -4.6321001052856445, -4.6321001052856445, -3.9902000427246094, -4.631999969482422, -3.94350004196167, -3.9900999069213867, -3.6029999256134033, -4.631999969482422, -3.5525999069213867, -4.631999969482422, -4.631999969482422, -4.2906999588012695, -3.6459999084472656, -3.367300033569336, -3.9902000427246094, -3.4449000358581543, -3.8965001106262207, -3.9902000427246094, -4.597599983215332, -4.6305999755859375, -4.631999969482422, -4.631999969482422]}, \"token.table\": {\"Topic\": [2, 7, 3, 7, 3, 7, 4, 9, 2, 7, 4, 8, 2, 2, 7, 5, 8, 3, 3, 4, 1, 2, 3, 4, 7, 8, 9, 2, 3, 2, 4, 8, 9, 1, 4, 3, 4, 7, 8, 4, 3, 4, 7, 4, 8, 3, 4, 2, 4, 6, 7, 8, 7, 2, 4, 4, 7, 2, 5, 7, 4, 3, 4, 8, 6, 8, 1, 7, 9, 7, 7, 8, 6, 7, 8, 1, 2, 3, 4, 8, 9, 4, 7, 9, 2, 7, 8, 3, 4, 6, 7, 7, 9, 7, 4, 8, 4, 7, 8, 4, 8, 7, 2, 4, 3, 7, 1, 3, 4, 4, 3, 4, 8, 2, 4, 4, 9, 3, 4, 4, 6, 6, 9, 4, 4, 8, 9, 1, 3, 4, 5, 7, 2, 3, 4, 7, 8, 9, 6, 7, 8, 3, 4, 8, 9, 7, 2, 3, 4, 9, 7, 9, 8, 9, 7, 7, 2, 3, 7, 4, 8, 2, 4, 6, 7, 8, 4, 9, 2, 3, 4, 6, 7, 3, 1, 4, 6, 4, 4, 5, 6, 7, 9, 7, 8, 9, 3, 4, 7, 8, 9, 2, 4, 3, 7, 4, 6, 3, 4, 7, 7, 8, 2, 9, 2, 4, 7, 4, 7, 8, 9, 4, 8, 3, 4, 2, 3, 3, 4, 7, 8, 9, 3, 8, 3, 9, 6, 9, 4, 1, 4, 7, 2, 3, 4, 5, 7, 9, 7, 5, 8, 7, 9, 2, 3, 4, 9, 2, 4, 3, 1, 5, 6, 8, 9, 4, 9, 7, 8, 2, 7, 8, 9, 1, 2, 3, 4, 7, 8, 9, 3, 4, 7, 8, 3, 7, 2, 3, 4, 2, 3, 4, 6, 7, 9, 3, 4, 2, 3, 4, 6, 7, 9, 2, 2, 4, 7, 8, 8, 9, 2, 3, 6, 7, 3, 7, 3, 6, 8, 9, 4, 6, 7, 9, 4, 9, 4, 7, 8, 2, 6, 7, 9, 4, 3, 4, 7, 9, 1, 2, 4, 2, 4, 4, 1, 3, 4, 6, 7, 3, 4, 2, 7, 2, 3, 7, 1, 7, 3, 4, 6, 7, 8, 4, 8, 2, 6, 7, 2, 3, 5, 9, 3, 6, 3, 2, 4, 6, 1, 4, 7, 9, 1, 4, 7, 9, 2, 3, 4, 8, 3, 5, 6, 3, 4, 7, 3, 7, 4, 2, 4, 4, 7, 2, 7, 2, 8, 3, 7, 2, 4, 4, 6, 7, 8, 1, 3, 4, 7, 1, 4, 4, 2, 3, 6, 7, 8, 2, 3, 7, 8, 7, 9, 3, 3, 4, 6, 7, 4, 7, 8, 9, 2, 4, 6, 7, 3, 7, 3, 4, 6, 2, 3, 1, 3, 4, 6, 7, 3, 4], \"Freq\": [0.4163035452365875, 0.4163035452365875, 0.409394234418869, 0.409394234418869, 0.30103522539138794, 0.6020704507827759, 0.42020297050476074, 0.42020297050476074, 0.41630464792251587, 0.41630464792251587, 0.415618896484375, 0.415618896484375, 0.8669989705085754, 0.3047581613063812, 0.6095163226127625, 0.49562910199165344, 0.49562910199165344, 0.8375046253204346, 0.5168535113334656, 0.34456899762153625, 0.03962484002113342, 0.19812420010566711, 0.11887452006340027, 0.19812420010566711, 0.19812420010566711, 0.11887452006340027, 0.11887452006340027, 0.8669989705085754, 0.8375393152236938, 0.280545711517334, 0.280545711517334, 0.140272855758667, 0.280545711517334, 0.45384761691093445, 0.45384761691093445, 0.27183598279953003, 0.27183598279953003, 0.3624480068683624, 0.0906120017170906, 0.7979196310043335, 0.4818187355995178, 0.2409093677997589, 0.2409093677997589, 0.4156193435192108, 0.4156193435192108, 0.40862736105918884, 0.40862736105918884, 0.21651673316955566, 0.43303346633911133, 0.21651673316955566, 0.609624981880188, 0.304812490940094, 0.9398895502090454, 0.4908975660800934, 0.4908975660800934, 0.4343400001525879, 0.5791199803352356, 0.5432950854301453, 0.27164754271507263, 0.27164754271507263, 0.884885311126709, 0.3095501959323883, 0.3095501959323883, 0.3095501959323883, 0.457364946603775, 0.457364946603775, 0.26928868889808655, 0.26928868889808655, 0.5385773777961731, 0.8008211255073547, 0.41640758514404297, 0.41640758514404297, 0.21588124334812164, 0.21588124334812164, 0.4317624866962433, 0.16190622746944427, 0.16190622746944427, 0.32381245493888855, 0.16190622746944427, 0.16190622746944427, 0.16190622746944427, 0.2416536659002304, 0.4833073318004608, 0.2416536659002304, 0.20627634227275848, 0.41255268454551697, 0.41255268454551697, 0.3002128005027771, 0.6004256010055542, 0.438147634267807, 0.438147634267807, 0.42100706696510315, 0.42100706696510315, 0.8008228540420532, 0.4156189560890198, 0.4156189560890198, 0.3043939471244812, 0.3043939471244812, 0.3043939471244812, 0.7909380793571472, 0.1977345198392868, 0.8008315563201904, 0.4155469834804535, 0.4155469834804535, 0.40938884019851685, 0.40938884019851685, 0.20853887498378754, 0.20853887498378754, 0.6256166100502014, 0.8848881125450134, 0.24307593703269958, 0.48615187406539917, 0.24307593703269958, 0.41551822423934937, 0.41551822423934937, 0.42852532863616943, 0.42852532863616943, 0.7323794364929199, 0.24412648379802704, 0.4372786283493042, 0.4372786283493042, 0.46292272210121155, 0.46292272210121155, 0.7979194521903992, 0.49421536922454834, 0.24710768461227417, 0.24710768461227417, 0.14195619523525238, 0.14195619523525238, 0.28391239047050476, 0.14195619523525238, 0.42586860060691833, 0.0748981386423111, 0.0748981386423111, 0.5242869257926941, 0.0748981386423111, 0.0748981386423111, 0.1497962772846222, 0.32507574558258057, 0.48761361837387085, 0.16253787279129028, 0.08570675551891327, 0.5999472737312317, 0.08570675551891327, 0.17141351103782654, 0.800825297832489, 0.2507472038269043, 0.2507472038269043, 0.2507472038269043, 0.2507472038269043, 0.421006441116333, 0.421006441116333, 0.8674402832984924, 0.6644114851951599, 0.80082106590271, 0.8884610533714294, 0.2435632348060608, 0.2435632348060608, 0.4871264696121216, 0.4156441390514374, 0.4156441390514374, 0.18872061371803284, 0.3774412274360657, 0.3774412274360657, 0.416404128074646, 0.416404128074646, 0.42020222544670105, 0.42020222544670105, 0.11092454195022583, 0.3327736258506775, 0.3327736258506775, 0.11092454195022583, 0.11092454195022583, 0.8376784324645996, 0.2157546728849411, 0.6472640037536621, 0.2157546728849411, 0.7979172468185425, 0.10317031294107437, 0.10317031294107437, 0.10317031294107437, 0.6190218925476074, 0.10317031294107437, 0.46645569801330566, 0.15548522770404816, 0.3109704554080963, 0.10294239968061447, 0.4632408022880554, 0.20588479936122894, 0.051471199840307236, 0.1544135957956314, 0.4155424237251282, 0.4155424237251282, 0.4093908965587616, 0.4093908965587616, 0.6307896971702576, 0.3153948485851288, 0.33766695857048035, 0.6753339171409607, 0.8884621262550354, 0.41640523076057434, 0.41640523076057434, 0.329248309135437, 0.658496618270874, 0.4120554029941559, 0.20602770149707794, 0.20602770149707794, 0.590721607208252, 0.295360803604126, 0.8674404621124268, 0.6644002795219421, 0.4156506359577179, 0.4156506359577179, 0.7324013710021973, 0.24413378536701202, 0.4260086417198181, 0.4260086417198181, 0.1508466750383377, 0.4525400400161743, 0.1508466750383377, 0.1508466750383377, 0.1508466750383377, 0.25553780794143677, 0.5110756158828735, 0.4309358596801758, 0.4309358596801758, 0.3539923429489136, 0.3539923429489136, 0.7979423999786377, 0.2521604597568512, 0.5043209195137024, 0.2521604597568512, 0.21213465929031372, 0.10606732964515686, 0.3182019889354706, 0.10606732964515686, 0.10606732964515686, 0.21213465929031372, 0.9398879408836365, 0.4956306219100952, 0.4956306219100952, 0.4210081696510315, 0.4210081696510315, 0.8669991493225098, 0.3050031363964081, 0.4575046896934509, 0.3050031363964081, 0.41556015610694885, 0.41556015610694885, 0.8375438451766968, 0.065200075507164, 0.065200075507164, 0.065200075507164, 0.130400151014328, 0.6520007848739624, 0.6128290891647339, 0.30641454458236694, 0.9398900270462036, 0.8674402832984924, 0.12899357080459595, 0.12899357080459595, 0.12899357080459595, 0.5159742832183838, 0.07650712877511978, 0.07650712877511978, 0.15301425755023956, 0.22952139377593994, 0.3060285151004791, 0.07650712877511978, 0.15301425755023956, 0.20045381784439087, 0.20045381784439087, 0.40090763568878174, 0.20045381784439087, 0.40939122438430786, 0.40939122438430786, 0.3095085620880127, 0.3095085620880127, 0.3095085620880127, 0.6387231349945068, 0.3193615674972534, 0.25490468740463257, 0.25490468740463257, 0.25490468740463257, 0.25490468740463257, 0.30021655559539795, 0.6004331111907959, 0.15364743769168854, 0.3072948753833771, 0.2304711490869522, 0.07682371884584427, 0.15364743769168854, 0.15364743769168854, 0.6471061110496521, 0.6268464922904968, 0.3134232461452484, 0.41640353202819824, 0.41640353202819824, 0.6530274152755737, 0.32651370763778687, 0.5269608497619629, 0.26348042488098145, 0.26348042488098145, 0.80082106590271, 0.4093892276287079, 0.4093892276287079, 0.4859202206134796, 0.16197340190410614, 0.16197340190410614, 0.3239468038082123, 0.3382144272327423, 0.11273813992738724, 0.22547627985477448, 0.22547627985477448, 0.4186163544654846, 0.4186163544654846, 0.396188884973526, 0.396188884973526, 0.198094442486763, 0.31419429183006287, 0.15709714591503143, 0.4712914228439331, 0.15709714591503143, 0.7979205846786499, 0.2013218253850937, 0.4026436507701874, 0.2013218253850937, 0.2013218253850937, 0.4753897786140442, 0.4753897786140442, 0.7979198694229126, 0.41553381085395813, 0.41553381085395813, 0.7979444265365601, 0.21876676380634308, 0.21876676380634308, 0.21876676380634308, 0.21876676380634308, 0.21876676380634308, 0.40863391757011414, 0.40863391757011414, 0.8669991493225098, 0.800825297832489, 0.42600852251052856, 0.42600852251052856, 0.8008182644844055, 0.45478442311286926, 0.45478442311286926, 0.4516609311103821, 0.11291523277759552, 0.11291523277759552, 0.11291523277759552, 0.22583046555519104, 0.41561976075172424, 0.41561976075172424, 0.45724207162857056, 0.45724207162857056, 0.800822913646698, 0.42600858211517334, 0.42600858211517334, 0.5021733045578003, 0.5021733045578003, 0.6552737951278687, 0.3276368975639343, 0.8374989628791809, 0.32565873861312866, 0.32565873861312866, 0.32565873861312866, 0.13586008548736572, 0.27172017097473145, 0.5434403419494629, 0.13586008548736572, 0.15735650062561035, 0.15735650062561035, 0.47206947207450867, 0.3147130012512207, 0.42600852251052856, 0.42600852251052856, 0.4156181812286377, 0.4156181812286377, 0.29519227147102356, 0.29519227147102356, 0.29519227147102356, 0.4086271822452545, 0.4086271822452545, 0.8008183240890503, 0.40939250588417053, 0.40939250588417053, 0.7979521751403809, 0.3061719536781311, 0.6123439073562622, 0.7979182004928589, 0.8008223176002502, 0.503797173500061, 0.2518985867500305, 0.4336130619049072, 0.4336130619049072, 0.4093957543373108, 0.4093957543373108, 0.4155184328556061, 0.4155184328556061, 0.21675173938274384, 0.21675173938274384, 0.21675173938274384, 0.21675173938274384, 0.25595298409461975, 0.25595298409461975, 0.25595298409461975, 0.25595298409461975, 0.4538485109806061, 0.4538485109806061, 0.797920286655426, 0.0811825841665268, 0.0811825841665268, 0.24354775249958038, 0.3247303366661072, 0.24354775249958038, 0.30992984771728516, 0.30992984771728516, 0.30992984771728516, 0.6474751830101013, 0.6134070754051208, 0.4089380204677582, 0.8375365734100342, 0.30026501417160034, 0.6005300283432007, 0.43814894556999207, 0.43814894556999207, 0.347852498292923, 0.347852498292923, 0.1739262491464615, 0.1739262491464615, 0.11959896236658096, 0.47839584946632385, 0.11959896236658096, 0.23919792473316193, 0.40939417481422424, 0.40939417481422424, 0.32140839099884033, 0.32140839099884033, 0.32140839099884033, 0.1370822638273239, 0.8224935531616211, 0.3302759826183319, 0.3302759826183319, 0.3302759826183319, 0.13231869041919708, 0.7939121127128601, 0.40863174200057983, 0.40863174200057983], \"Term\": [\"10\", \"10\", \"2\", \"2\", \"2nd\", \"2nd\", \"5\", \"5\", \"able\", \"able\", \"actual\", \"actual\", \"actually\", \"add\", \"add\", \"addition\", \"addition\", \"advertised\", \"alarm\", \"alarm\", \"alexa\", \"alexa\", \"alexa\", \"alexa\", \"alexa\", \"alexa\", \"alexa\", \"alone\", \"already\", \"also\", \"also\", \"also\", \"also\", \"amazing\", \"amazing\", \"amazon\", \"amazon\", \"amazon\", \"amazon\", \"analogue\", \"another\", \"another\", \"another\", \"answer\", \"answer\", \"answers\", \"answers\", \"anything\", \"anything\", \"anything\", \"app\", \"app\", \"apps\", \"around\", \"around\", \"ask\", \"ask\", \"assistant\", \"assistant\", \"assistant\", \"awesome\", \"bed\", \"bed\", \"bed\", \"best\", \"best\", \"better\", \"better\", \"better\", \"biggest\", \"bit\", \"bit\", \"bluetooth\", \"bluetooth\", \"bluetooth\", \"bought\", \"bought\", \"bought\", \"bought\", \"bought\", \"bought\", \"buying\", \"buying\", \"buying\", \"cant\", \"cant\", \"cant\", \"clock\", \"clock\", \"commands\", \"commands\", \"compared\", \"compared\", \"complaint\", \"connect\", \"connect\", \"connected\", \"connected\", \"connected\", \"connection\", \"connection\", \"convenient\", \"conversation\", \"conversation\", \"cooking\", \"cooking\", \"could\", \"could\", \"could\", \"crackle\", \"day\", \"day\", \"day\", \"deal\", \"deal\", \"definitely\", \"definitely\", \"device\", \"device\", \"didnt\", \"didnt\", \"difficult\", \"difficult\", \"digital\", \"doesnt\", \"doesnt\", \"doesnt\", \"dont\", \"dont\", \"dont\", \"dont\", \"dont\", \"dot\", \"dot\", \"dot\", \"dot\", \"dot\", \"dot\", \"easy\", \"easy\", \"easy\", \"echo\", \"echo\", \"echo\", \"echo\", \"engine\", \"enjoy\", \"enjoy\", \"enjoy\", \"enjoy\", \"even\", \"even\", \"every\", \"excellent\", \"expensive\", \"feedback\", \"first\", \"first\", \"first\", \"friend\", \"friend\", \"fun\", \"fun\", \"fun\", \"functions\", \"functions\", \"gadget\", \"gadget\", \"get\", \"get\", \"get\", \"get\", \"get\", \"getting\", \"gift\", \"gift\", \"gift\", \"given\", \"good\", \"good\", \"good\", \"good\", \"good\", \"google\", \"google\", \"google\", \"great\", \"great\", \"great\", \"great\", \"great\", \"happy\", \"happy\", \"helpful\", \"helpful\", \"highly\", \"highly\", \"home\", \"home\", \"honeywell\", \"hook\", \"hook\", \"house\", \"house\", \"im\", \"im\", \"im\", \"information\", \"information\", \"instead\", \"isnt\", \"keep\", \"keep\", \"kids\", \"kids\", \"kitchen\", \"kitchen\", \"know\", \"know\", \"know\", \"know\", \"know\", \"laptop\", \"laptop\", \"learn\", \"learn\", \"learning\", \"learning\", \"let\", \"life\", \"life\", \"life\", \"like\", \"like\", \"like\", \"like\", \"like\", \"like\", \"link\", \"list\", \"list\", \"listen\", \"listen\", \"listening\", \"little\", \"little\", \"little\", \"lonely\", \"lonely\", \"lot\", \"love\", \"love\", \"love\", \"love\", \"love\", \"loves\", \"loves\", \"make\", \"mobile\", \"much\", \"much\", \"much\", \"much\", \"music\", \"music\", \"music\", \"music\", \"music\", \"music\", \"music\", \"new\", \"new\", \"new\", \"new\", \"next\", \"next\", \"nice\", \"nice\", \"nice\", \"night\", \"night\", \"nothing\", \"nothing\", \"nothing\", \"nothing\", \"old\", \"old\", \"one\", \"one\", \"one\", \"one\", \"one\", \"one\", \"ordered\", \"perfect\", \"perfect\", \"perfectly\", \"perfectly\", \"phone\", \"phone\", \"play\", \"play\", \"play\", \"plenty\", \"possibilities\", \"possibilities\", \"price\", \"price\", \"price\", \"price\", \"product\", \"product\", \"product\", \"product\", \"quality\", \"quality\", \"questions\", \"questions\", \"questions\", \"really\", \"really\", \"really\", \"really\", \"recipe\", \"recommend\", \"recommend\", \"recommend\", \"recommend\", \"remember\", \"remember\", \"repeat\", \"requests\", \"requests\", \"respond\", \"room\", \"room\", \"room\", \"room\", \"room\", \"said\", \"said\", \"say\", \"search\", \"second\", \"second\", \"see\", \"sensitive\", \"sensitive\", \"set\", \"set\", \"set\", \"set\", \"set\", \"setting\", \"setting\", \"shes\", \"shes\", \"skill\", \"sleep\", \"sleep\", \"small\", \"small\", \"smart\", \"smart\", \"sockets\", \"son\", \"son\", \"son\", \"sound\", \"sound\", \"sound\", \"sound\", \"speaker\", \"speaker\", \"speaker\", \"speaker\", \"stand\", \"stand\", \"start\", \"start\", \"still\", \"still\", \"still\", \"stuff\", \"stuff\", \"surprised\", \"take\", \"take\", \"talking\", \"thank\", \"thank\", \"theatre\", \"thermostats\", \"thing\", \"thing\", \"things\", \"things\", \"think\", \"think\", \"though\", \"though\", \"time\", \"time\", \"time\", \"time\", \"timer\", \"timer\", \"timer\", \"timer\", \"tv\", \"tv\", \"upset\", \"use\", \"use\", \"use\", \"use\", \"use\", \"useful\", \"useful\", \"useful\", \"via\", \"voice\", \"voice\", \"wall\", \"wanted\", \"wanted\", \"way\", \"way\", \"weather\", \"weather\", \"weather\", \"weather\", \"well\", \"well\", \"well\", \"well\", \"whats\", \"whats\", \"work\", \"work\", \"work\", \"works\", \"works\", \"worth\", \"worth\", \"worth\", \"would\", \"would\", \"year\", \"year\"]}, \"R\": 30, \"lambda.step\": 0.01, \"plot.opts\": {\"xlab\": \"PC1\", \"ylab\": \"PC2\"}, \"topic.order\": [1, 2, 3, 4, 5, 6, 7, 8, 9]};\n",
       "\n",
       "function LDAvis_load_lib(url, callback){\n",
       "  var s = document.createElement('script');\n",
       "  s.src = url;\n",
       "  s.async = true;\n",
       "  s.onreadystatechange = s.onload = callback;\n",
       "  s.onerror = function(){console.warn(\"failed to load library \" + url);};\n",
       "  document.getElementsByTagName(\"head\")[0].appendChild(s);\n",
       "}\n",
       "\n",
       "if(typeof(LDAvis) !== \"undefined\"){\n",
       "   // already loaded: just create the visualization\n",
       "   !function(LDAvis){\n",
       "       new LDAvis(\"#\" + \"ldavis_el278671122441449768089497910\", ldavis_el278671122441449768089497910_data);\n",
       "   }(LDAvis);\n",
       "}else if(typeof define === \"function\" && define.amd){\n",
       "   // require.js is available: use it to load d3/LDAvis\n",
       "   require.config({paths: {d3: \"https://cdnjs.cloudflare.com/ajax/libs/d3/3.5.5/d3.min\"}});\n",
       "   require([\"d3\"], function(d3){\n",
       "      window.d3 = d3;\n",
       "      LDAvis_load_lib(\"https://cdn.rawgit.com/bmabey/pyLDAvis/files/ldavis.v1.0.0.js\", function(){\n",
       "        new LDAvis(\"#\" + \"ldavis_el278671122441449768089497910\", ldavis_el278671122441449768089497910_data);\n",
       "      });\n",
       "    });\n",
       "}else{\n",
       "    // require.js not available: dynamically load d3 & LDAvis\n",
       "    LDAvis_load_lib(\"https://cdnjs.cloudflare.com/ajax/libs/d3/3.5.5/d3.min.js\", function(){\n",
       "         LDAvis_load_lib(\"https://cdn.rawgit.com/bmabey/pyLDAvis/files/ldavis.v1.0.0.js\", function(){\n",
       "                 new LDAvis(\"#\" + \"ldavis_el278671122441449768089497910\", ldavis_el278671122441449768089497910_data);\n",
       "            })\n",
       "         });\n",
       "}\n",
       "</script>"
      ],
      "text/plain": [
       "<IPython.core.display.HTML object>"
      ]
     },
     "execution_count": 23,
     "metadata": {},
     "output_type": "execute_result"
    }
   ],
   "source": [
    "lda_display = pyLDAvis.gensim.prepare(ldamodel, corpus, dictionary, sort_topics=False)\n",
    "pyLDAvis.display(lda_display)\n"
   ]
  },
  {
   "cell_type": "markdown",
   "metadata": {},
   "source": [
    "Each bubble on the left-hand side plot represents a topic. The larger the bubble, the more prevalent is that topic.\n",
    "\n",
    "A good topic model will have fairly big, non-overlapping bubbles scattered throughout the chart instead of being clustered in one quadrant.\n",
    "\n",
    "A model with too many topics, will typically have many overlaps, small sized bubbles clustered in one region of the chart.\n",
    "\n",
    "Alright, if you move the cursor over one of the bubbles, the words and bars on the right-hand side will update. These words are the salient keywords that form the selected topic."
   ]
  },
  {
   "cell_type": "code",
   "execution_count": 24,
   "metadata": {
    "scrolled": true
   },
   "outputs": [
    {
     "name": "stdout",
     "output_type": "stream",
     "text": [
      "\n",
      "Perplexity:  -5.805102263178053\n"
     ]
    }
   ],
   "source": [
    "# Compute Perplexity\n",
    "print('\\nPerplexity: ', ldamodel.log_perplexity(corpus))  # a measure of how good the model is. lower the better.\n",
    "\n"
   ]
  }
 ],
 "metadata": {
  "kernelspec": {
   "display_name": "Python 3",
   "language": "python",
   "name": "python3"
  },
  "language_info": {
   "codemirror_mode": {
    "name": "ipython",
    "version": 3
   },
   "file_extension": ".py",
   "mimetype": "text/x-python",
   "name": "python",
   "nbconvert_exporter": "python",
   "pygments_lexer": "ipython3",
   "version": "3.7.4"
  }
 },
 "nbformat": 4,
 "nbformat_minor": 2
}
